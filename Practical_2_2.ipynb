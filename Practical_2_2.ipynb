{
  "cells": [
    {
      "cell_type": "markdown",
      "metadata": {
        "id": "VgSonizgINOb"
      },
      "source": [
        "# Tutorial 2.2: Basic Probability using Python\n",
        "\n",
        "This notebook was largely adapted from The Dark Art of Coding ([Github](https://github.com/chalmerlowe)). "
      ]
    },
    {
      "cell_type": "markdown",
      "metadata": {
        "id": "C5yqcbquINOf"
      },
      "source": [
        "# Main objectives\n",
        "---"
      ]
    },
    {
      "cell_type": "markdown",
      "metadata": {
        "id": "5VHLFDXPINOf"
      },
      "source": [
        "You will be able to:\n",
        "\n",
        "* Understand how to calculate probabilities of independent events\n",
        "* Explore probabilities using Venn diagrams\n",
        "* Explore probabilities using Probability Trees\n",
        "\n",
        "\n"
      ]
    },
    {
      "cell_type": "markdown",
      "metadata": {
        "id": "orswYhWxINOf"
      },
      "source": [
        "# Calculating the probability of an event\n",
        "---"
      ]
    },
    {
      "cell_type": "markdown",
      "metadata": {
        "id": "BpZtHJEsINOg"
      },
      "source": [
        "There are lots of definitions of probability... let's use one found in **Statistics in a Nutshell** (Sarah Boslaugh):\n",
        "\n",
        "*\"... probability tells us how often something is likely to occur when an experiment is repeated...\"*\n"
      ]
    },
    {
      "cell_type": "markdown",
      "metadata": {
        "id": "yLFargAVINOg"
      },
      "source": [
        "## Definitions\n",
        "\n",
        "To get started, let's put together some additional definitions:"
      ]
    },
    {
      "cell_type": "markdown",
      "metadata": {
        "id": "avGwDC_mINOh"
      },
      "source": [
        "### Trials (or experiments or observations)"
      ]
    },
    {
      "cell_type": "markdown",
      "metadata": {
        "id": "ju2e52afINOh"
      },
      "source": [
        "A **trial** is an event whose outcome is unknown\n",
        "\n",
        "Trials can be very simple OR extremely complex:\n",
        "\n",
        "* simple as flipping a coin or rolling a dice\n",
        "* complex as determining whether someone with a low birth weight is gonna graduate college 22 years later"
      ]
    },
    {
      "cell_type": "markdown",
      "metadata": {
        "id": "GXGYrIMtINOi"
      },
      "source": [
        "### Sample space"
      ]
    },
    {
      "cell_type": "markdown",
      "metadata": {
        "id": "xpIO8vxQINOi"
      },
      "source": [
        "The **sample space**, often signified by an `S` is a set of **all possible outcomes** of a trial.\n",
        "\n",
        "Thus, if our trial is a single roll of a six-sided die, then the sample space will be:\n",
        "\n",
        "`S = {1, 2, 3, 4, 5, 6}`\n",
        "\n",
        "AND if our trial is choosing a coin from a bag, then the sample space might be:\n",
        "\n",
        "`S = {quarter, dime, nickel, penny}`\n"
      ]
    },
    {
      "cell_type": "markdown",
      "metadata": {
        "id": "7NhWS-JzINOj"
      },
      "source": [
        "### Events"
      ]
    },
    {
      "cell_type": "markdown",
      "metadata": {
        "id": "IDEmdpVLINOj"
      },
      "source": [
        "An **Event** specifies the outcome of a trial. Events can be the outcome of a single trial OR a set of outcomes.\n",
        "\n",
        "Events are often designated with an `E`.\n",
        "\n",
        "For example, if we roll a die and want to specify our event to be that we get a one (1), then our event might be defined:\n",
        "\n",
        "`E = {1}`\n",
        "\n",
        "Similarly, if we want to specify our event to be that we get an even number, then our event might be defined:\n",
        "\n",
        "`E = {2, 4, 6}`"
      ]
    },
    {
      "cell_type": "markdown",
      "metadata": {
        "id": "-ymXAQ3OINOj"
      },
      "source": [
        "### Calculating a probability"
      ]
    },
    {
      "cell_type": "markdown",
      "metadata": {
        "id": "ucgopmFZINOk"
      },
      "source": [
        "To calculate a simple probability of an event, labeled `P(E)`, we divide the number of ways of getting the event, `n(E)` by the number of elements in the sample space, `n(S)`.\n",
        "\n",
        "$\\Large P(E) = \\frac{n(E)}{n(S)}$"
      ]
    },
    {
      "cell_type": "markdown",
      "metadata": {
        "id": "eNkEf34DINOk"
      },
      "source": [
        "For example, if we calculate the probability of rolling a `1` on a six sided die...\n",
        "\n",
        "```\n",
        "E = {1}\n",
        "S = {1, 2, 3, 4, 5, 6}\n",
        "\n",
        "\n",
        "n(E) = 1      # number of ways to get the event\n",
        "n(S) = 6      # number of elements in the sample space\n",
        "\n",
        "P(E) = 1 / 6\n",
        "```"
      ]
    },
    {
      "cell_type": "markdown",
      "metadata": {
        "id": "2XoevgilINOk"
      },
      "source": [
        "### Using python to calculate some probabilities"
      ]
    },
    {
      "cell_type": "markdown",
      "metadata": {
        "id": "KYMFcX5tINOk"
      },
      "source": [
        "Let's start with a simple function that allows us to calculate a simple probability of getting a `1` when we roll a six-sided die.\n",
        "\n",
        "NOTE: in the gaming community, die are often referred to with the prefix `d` and the number of sides:\n",
        "* d6 for a six-sided die\n",
        "* d8 for an eight-sided die\n",
        "* etc"
      ]
    },
    {
      "cell_type": "code",
      "execution_count": 36,
      "metadata": {
        "id": "-RU_Ih6CINOl"
      },
      "outputs": [],
      "source": [
        "def one_on_a_d6():\n",
        "    '''Return the probability of rolling a 1 on a d6'''\n",
        "    \n",
        "    return 1 / 6"
      ]
    },
    {
      "cell_type": "code",
      "execution_count": 37,
      "metadata": {
        "colab": {
          "base_uri": "https://localhost:8080/"
        },
        "id": "yEm9-8V3INOm",
        "outputId": "8acdc58f-d7cc-4bec-f2f0-94783b1a001b"
      },
      "outputs": [
        {
          "output_type": "execute_result",
          "data": {
            "text/plain": [
              "0.16666666666666666"
            ]
          },
          "metadata": {},
          "execution_count": 37
        }
      ],
      "source": [
        "one_on_a_d6()"
      ]
    },
    {
      "cell_type": "markdown",
      "metadata": {
        "id": "fLcLDAUzINOm"
      },
      "source": [
        "As you can imagine, this is pretty limited. So let's put together a function that is a bit more capable."
      ]
    },
    {
      "cell_type": "code",
      "execution_count": 51,
      "metadata": {
        "id": "D-VGsrJnINOm"
      },
      "outputs": [],
      "source": [
        "def probability(sample_size, event):\n",
        "    '''Return the probability of an event given the event and the sample size.\n",
        "    NOTE: the event can only be composed of a single element.'''\n",
        "    \n",
        "    count = 1\n",
        "    return count / sample_size"
      ]
    },
    {
      "cell_type": "markdown",
      "metadata": {
        "id": "MaNRD-xcINOm"
      },
      "source": [
        "Presuming that our event is to roll a `4` on a six-sided die..."
      ]
    },
    {
      "cell_type": "code",
      "execution_count": 39,
      "metadata": {
        "colab": {
          "base_uri": "https://localhost:8080/"
        },
        "id": "GLbwAmPfINOn",
        "outputId": "74433aed-2523-4ff4-fcd7-4b44389de673"
      },
      "outputs": [
        {
          "output_type": "execute_result",
          "data": {
            "text/plain": [
              "0.16666666666666666"
            ]
          },
          "metadata": {},
          "execution_count": 39
        }
      ],
      "source": [
        "probability(sample_size=6, event=4)"
      ]
    },
    {
      "cell_type": "markdown",
      "metadata": {
        "id": "wkwlbfLrINOn"
      },
      "source": [
        "The astute observer would notice that... `event` didn't really do anything in our function, since we were focused on the probability of only one event occurring.\n"
      ]
    },
    {
      "cell_type": "markdown",
      "metadata": {
        "id": "8FsGQdL5INOn"
      },
      "source": [
        "### What about multiple elements in an event?"
      ]
    },
    {
      "cell_type": "markdown",
      "metadata": {
        "id": "XdavcquvINOn"
      },
      "source": [
        "What if we wanted to calculate the probability of rolling a `1, 2, or 3`?"
      ]
    },
    {
      "cell_type": "markdown",
      "metadata": {
        "id": "S88KVrNnINOn"
      },
      "source": [
        "If you recall, our probability formula alluded to the fact that we can calculate the probability of an event w/ multiple elements. To calculate this probability labeled `P(E)`, we use the same formula and divide the number of ways of getting the event, `n(E)` by the number of elements in the sample space, `n(S)`.\n",
        "\n",
        "$\\Large P(E) = \\frac{n(E)}{n(S)}$"
      ]
    },
    {
      "cell_type": "markdown",
      "metadata": {
        "id": "4OmsgrUAINOn"
      },
      "source": [
        "For example, if we calculate the probability of rolling a `1, 2, or 3` on a six-sided die, since there are 3 elements in our event.\n",
        "\n",
        "```\n",
        "n(E) = 3      # number of ways to get the event\n",
        "n(S) = 6      # number of elements in the sample space\n",
        "\n",
        "P(E) = 3 / 6 = 0.5\n",
        "```"
      ]
    },
    {
      "cell_type": "markdown",
      "metadata": {
        "id": "FRAznAqzINOo"
      },
      "source": [
        "Our previous function presumed we were only looking at a single element out of a sample space and thus used a hard coded value of `1` as our `count` for the number of elements in the event. That function doesn't help us if we have multiple elements in our event. Let's look at the probability of rolling a `1, 2, or 3`:"
      ]
    },
    {
      "cell_type": "code",
      "execution_count": 40,
      "metadata": {
        "collapsed": true,
        "id": "qROEwu33INOo"
      },
      "outputs": [],
      "source": [
        "event = [1, 2, 3]\n",
        "\n",
        "def probability(sample_size, event=event):\n",
        "    '''Return the probability of an event given the event and the sample size.\n",
        "    The event may be composed of either a single element OR multiple elements (i.e. \n",
        "    a tuple OR list).\n",
        "    '''\n",
        "        \n",
        "    if isinstance(event, (list, tuple)):\n",
        "        count = len(event)\n",
        "    else:\n",
        "        count = 1\n",
        "    return count / sample_size"
      ]
    },
    {
      "cell_type": "markdown",
      "metadata": {
        "id": "xfs3xbZZINOo"
      },
      "source": [
        "For simplicity, let's alias our function as `P`:"
      ]
    },
    {
      "cell_type": "code",
      "execution_count": 41,
      "metadata": {
        "id": "Y5cKlOcrINOo"
      },
      "outputs": [],
      "source": [
        "P = probability"
      ]
    },
    {
      "cell_type": "code",
      "execution_count": 42,
      "metadata": {
        "colab": {
          "base_uri": "https://localhost:8080/"
        },
        "id": "pKaD84IoINOo",
        "outputId": "826fc342-fc88-4ae6-9f8c-d1e765bf638e"
      },
      "outputs": [
        {
          "output_type": "execute_result",
          "data": {
            "text/plain": [
              "0.16666666666666666"
            ]
          },
          "metadata": {},
          "execution_count": 42
        }
      ],
      "source": [
        "# We want to make sure this works in the base case of a single element in a event\n",
        "# i.e. rolling a two on a six-sided die\n",
        "\n",
        "P(6, 2)"
      ]
    },
    {
      "cell_type": "code",
      "execution_count": 43,
      "metadata": {
        "colab": {
          "base_uri": "https://localhost:8080/"
        },
        "id": "xHcCpvR_INOo",
        "outputId": "6c114f09-9294-4bf8-c85e-c16852b1e6d9"
      },
      "outputs": [
        {
          "output_type": "execute_result",
          "data": {
            "text/plain": [
              "0.5"
            ]
          },
          "metadata": {},
          "execution_count": 43
        }
      ],
      "source": [
        "# probability of rolling a four, five OR a six on a six-sided die\n",
        "\n",
        "P(6, [4, 5, 6])"
      ]
    },
    {
      "cell_type": "code",
      "execution_count": 44,
      "metadata": {
        "colab": {
          "base_uri": "https://localhost:8080/"
        },
        "id": "k0JZw3foINOp",
        "outputId": "9be151e8-b48f-4fb1-e213-0b35989c2fe2"
      },
      "outputs": [
        {
          "output_type": "execute_result",
          "data": {
            "text/plain": [
              "0.5"
            ]
          },
          "metadata": {},
          "execution_count": 44
        }
      ],
      "source": [
        "# probability of rolling an odd number on a six-sided die\n",
        "\n",
        "P(6, [1, 3, 5])"
      ]
    },
    {
      "cell_type": "markdown",
      "metadata": {
        "id": "z-Hz4kzTINOp"
      },
      "source": [
        "## Venn diagrams"
      ]
    },
    {
      "cell_type": "markdown",
      "metadata": {
        "id": "pU3pBF7uINOp"
      },
      "source": [
        "Venn diagrams are often used to represent elements in a sample space using simple pictures:\n",
        "    \n",
        "This might be a representation of rolling the odd numbers on a d10:\n",
        "\n",
        "**NOTE**: \n",
        "\n",
        "* When dealing with Venn diagrams, typically the rectangle represents all possible values.\n",
        "* Values in the circles/ellipses are values that you are interested in.\n",
        "* For convenience, I explictly stated that the rectangle holds all the other values, but eventually, I will stop doing so (as that is generally a given).\n"
      ]
    },
    {
      "cell_type": "markdown",
      "metadata": {
        "id": "gZvUDmNTINOp"
      },
      "source": [
        "## Experience Points\n",
        "---"
      ]
    },
    {
      "cell_type": "markdown",
      "metadata": {
        "id": "sQ8pqHnUINOp"
      },
      "source": [
        "### Complete the following exercises:\n",
        "\n",
        "It may be useful to create a Venn Diagram to help you characterize the Sample Space and the Event."
      ]
    },
    {
      "cell_type": "markdown",
      "metadata": {
        "id": "RJE8bJuBINOq"
      },
      "source": [
        "**A**. Use Python to calculate the probability of rolling a 20 on a d20. To help you, we suggest some inputs representing the element(s) in the event and elements in the sample space.\n",
        "\n",
        "$E = 1$\n",
        "\n",
        "$S = {1, 2, 3, 4, 5, 6, 7, 8, 9, 10, 11, 12, 13, 14, 15, 16, 17, 18, 19, 20}$\n",
        "\n",
        "$\\large P(E) = \\frac{n(E)}{n(S)}$\n"
      ]
    },
    {
      "cell_type": "code",
      "execution_count": 52,
      "metadata": {
        "id": "_yHVCh1YINOq",
        "outputId": "e42063dc-66fa-4dba-d86c-11ffaae1cd3f",
        "colab": {
          "base_uri": "https://localhost:8080/"
        }
      },
      "outputs": [
        {
          "output_type": "stream",
          "name": "stdout",
          "text": [
            "probability of rolling a 20 on a d20: 0.05\n"
          ]
        }
      ],
      "source": [
        "E = 1\n",
        "S = 20\n",
        "P = E/S\n",
        "print(\"probability of rolling a 20 on a d20:\",P)"
      ]
    },
    {
      "cell_type": "markdown",
      "metadata": {
        "id": "t6RXj7DEINOq"
      },
      "source": [
        "**B**. Use Python to calculate the probability of rolling an even number on a d10. To help you, we suggest some inputs representing the element(s) in the event and elements in the sample space.\n",
        "\n",
        "$E = \\{2, 4, 6, 8, 10\\}$\n",
        "\n",
        "$S = \\{1, 2, 3, 4, 5, 6, 7, 8, 9, 10\\}$\n",
        "\n",
        "$\\large P(E) = \\frac{n(E)}{n(S)}$"
      ]
    },
    {
      "cell_type": "code",
      "execution_count": 53,
      "metadata": {
        "id": "7-Nffmy_INOq",
        "outputId": "10b9a2ff-eebe-4f1a-c7b3-3b4043dda964",
        "colab": {
          "base_uri": "https://localhost:8080/"
        }
      },
      "outputs": [
        {
          "output_type": "stream",
          "name": "stdout",
          "text": [
            "probability of rolling an even number on a d10: 0.5\n"
          ]
        }
      ],
      "source": [
        "E = 5\n",
        "S = 10\n",
        "P = E/S\n",
        "print(\"probability of rolling an even number on a d10:\",P)"
      ]
    },
    {
      "cell_type": "markdown",
      "metadata": {
        "id": "K9Zc29aeINOq"
      },
      "source": [
        "**C**. Use Python to calculate the probability of picking an Ace from a standard 52-card deck. To help you, we suggest some inputs representing the element(s) in the event and elements in the sample space.\n",
        "\n",
        "As a shortcut, we will represent the cards using this nomenclature:\n",
        "\n",
        "Ace = A, King = K, Queen = Q, Jack = J, numbered cards are represented by number\n",
        "\n",
        "Club = C, Spade = S, Diamond = D, Heart = H\n",
        "\n",
        "Some example cards would be:\n",
        "\n",
        "* Ace of Spades: AS\n",
        "* King of Hearts: KH\n",
        "* Queen of Clubs: QC\n",
        "* Ten of Diamonds: 10D\n",
        "* Nine of Spades: 9S\n",
        "\n",
        "Thus... our Event and Sample Space would look like this:\n",
        "\n",
        "$E = \\{AC, AS, AD, AH\\}$\n",
        "\n",
        "$S = \\{2C, 3C, 4C, 5C, 6C, 7C, 8C, 9C, 10C, JC, QC, KC, AC, \\\\\n",
        "   \\phantom{=} 2S, 3S, 4S, 5S, 6S, 7S, 8S, 9S, 10S, JS, QS, KS, AS, \\\\\n",
        "\\phantom{=} 2D, 3D, 4D, 5D, 6D, 7D, 8D, 9D, 10D, JD, QD, KD, AD, \\\\\n",
        "\\phantom{=} 2H, 3H, 4H, 5H, 6H, 7H, 8H, 9H, 10H, JH, QH, KH, AH\\}$\n",
        "\n",
        "$\\large P(E) = \\frac{n(E)}{n(S)}$\n",
        "\n"
      ]
    },
    {
      "cell_type": "code",
      "execution_count": 54,
      "metadata": {
        "id": "EcAdxJLuINOq",
        "outputId": "81b82f23-2e72-4d46-e35b-ad7a16bd7d39",
        "colab": {
          "base_uri": "https://localhost:8080/"
        }
      },
      "outputs": [
        {
          "output_type": "stream",
          "name": "stdout",
          "text": [
            "probability of picking an Ace from a standard 52-card deck: 0.07692307692307693\n"
          ]
        }
      ],
      "source": [
        "E = 4\n",
        "S = 52\n",
        "P = E/S\n",
        "print(\"probability of picking an Ace from a standard 52-card deck:\",P)"
      ]
    },
    {
      "cell_type": "markdown",
      "metadata": {
        "id": "xZ8q9sjfINOq"
      },
      "source": [
        "**D**. Use Python to calculate the probability of a day in May 2018 falling a weekend. Practice figuring out what the Event looks like and the Sample Space looks like. Use your answers to calculate the probability.\n",
        "\n",
        "$E = ?$\n",
        "\n",
        "$S = ?$\n",
        "\n",
        "$\\large P(E) = \\frac{n(E)}{n(S)}$"
      ]
    },
    {
      "cell_type": "code",
      "execution_count": 55,
      "metadata": {
        "id": "DTPe30M7INOq",
        "outputId": "23906ebc-618a-43f2-fa11-b4ba37c55bd3",
        "colab": {
          "base_uri": "https://localhost:8080/"
        }
      },
      "outputs": [
        {
          "output_type": "stream",
          "name": "stdout",
          "text": [
            "probability of a day in May 2018 falling a weekend: 0.26666666666666666\n"
          ]
        }
      ],
      "source": [
        "import datetime\n",
        "E = 0\n",
        "S = 0\n",
        "for day in range(1,31):\n",
        "  date = datetime.date(2018, 5, day)\n",
        "  if date.weekday() == 5 or date.weekday() == 6:\n",
        "    E += 1\n",
        "  S += 1\n",
        "P = E/S\n",
        "print(\"probability of a day in May 2018 falling a weekend:\", P)"
      ]
    },
    {
      "cell_type": "markdown",
      "metadata": {
        "id": "2wSjZBXQINOq"
      },
      "source": [
        "**E**. Use Python to calculate the probability of rolling an even number on a d10."
      ]
    },
    {
      "cell_type": "code",
      "execution_count": 56,
      "metadata": {
        "id": "lJR9CAtgINOr",
        "outputId": "ca7eda9e-b7dd-4ca9-d53f-476e3ab80f1e",
        "colab": {
          "base_uri": "https://localhost:8080/"
        }
      },
      "outputs": [
        {
          "output_type": "stream",
          "name": "stdout",
          "text": [
            " probability of rolling an even number on a d10: 0.5\n"
          ]
        }
      ],
      "source": [
        "E = 5\n",
        "S = 10\n",
        "P = E/S\n",
        "print(\" probability of rolling an even number on a d10:\",P)"
      ]
    },
    {
      "cell_type": "markdown",
      "metadata": {
        "id": "PGKu69YcINOr"
      },
      "source": [
        "**F**. Use Python to calculate the probability of drawing a face card (Jack, Queen, King) from a deck of cards that includes not only the standard 52 cards, but two jokers, as well."
      ]
    },
    {
      "cell_type": "code",
      "execution_count": 57,
      "metadata": {
        "id": "4YCooeG7INOr",
        "outputId": "d9e5ed1e-f00e-4c98-d702-6c88d16ad87e",
        "colab": {
          "base_uri": "https://localhost:8080/"
        }
      },
      "outputs": [
        {
          "output_type": "stream",
          "name": "stdout",
          "text": [
            "probability of drawing a face card: 0.2222222222222222\n"
          ]
        }
      ],
      "source": [
        "E = 12\n",
        "S = 54\n",
        "P = E/S\n",
        "print(\"probability of drawing a face card:\",P)"
      ]
    },
    {
      "cell_type": "markdown",
      "metadata": {
        "id": "Its9wCZZINOr"
      },
      "source": [
        "# Exclusive events and intersections\n",
        "---"
      ]
    },
    {
      "cell_type": "markdown",
      "metadata": {
        "id": "boWEAmBGINOr"
      },
      "source": [
        "As noted above, sometimes events are exclusive and adding their probabilities works as expected.\n",
        "\n",
        "In other cases, events are not exclusive (i.e. they have some degree of overlap or intersection) and thus simply adding the probabilities together doesn't work"
      ]
    },
    {
      "cell_type": "markdown",
      "metadata": {
        "id": "hdmKReoQINOr"
      },
      "source": [
        "## Exclusive events"
      ]
    },
    {
      "cell_type": "markdown",
      "metadata": {
        "id": "TPErjbXqINOr"
      },
      "source": [
        "Here is a simple example of a pair of exclusive events:\n",
        "\n",
        "On a d10, what is the probability of rolling an even number OR and odd number?\n",
        "\n",
        "$P(even) = 0.5$\n",
        "\n",
        "$P(odd) = 0.5$\n",
        "\n",
        "$P(even \\ OR \\ odd) = 1.0 \\ (i.e. \\ this \\ outcome \\ is \\ guaranteed)$\n",
        "\n",
        "**NOTE**: you can't get higher than a **1.0** when calculating probabilities. Probabilities range from **zero** (it will not happen) to **one** (it will happen, guaranteed).\n"
      ]
    },
    {
      "cell_type": "markdown",
      "metadata": {
        "id": "OEJ9uMbMINOr"
      },
      "source": [
        "## Intersecting events"
      ]
    },
    {
      "cell_type": "markdown",
      "metadata": {
        "id": "8Xuhi6BOINOr"
      },
      "source": [
        "Consider the probability you roll a number higher than 5 OR roll an even number on a d10. Let's start by creating our Event sets...\n",
        "    \n",
        "$E(greater\\_than\\_five) = \\{6, 7, 8, 9, 10\\}$\n",
        "\n",
        "$E(even) = \\{2, 4, 6, 8, 10\\}$\n",
        "\n",
        "$S = \\{1, 2, 3, 4, 5, 6, 7, 8, 9, 10\\}$\n",
        "\n",
        "\n",
        "\n",
        "$P(greater\\_than\\_five) = \\frac{5}{10} = 0.5$\n",
        "\n",
        "$P(even) = \\frac{5}{10} = 0.5$\n",
        "\n",
        "Which implies that ...\n",
        "\n",
        "$P(greater\\_than\\_five \\ OR \\ even) = 1.0$\n",
        "\n",
        "...which is clearly not correct. The **correct answer is**: \n",
        "\n",
        "$P(greater\\_than\\_five \\ OR \\ even) = \\frac{7}{10} = 0.7$\n",
        "\n",
        "\n",
        "\n",
        "\n",
        "\n"
      ]
    },
    {
      "cell_type": "markdown",
      "metadata": {
        "id": "0Q9FKRhWINOs"
      },
      "source": [
        "### Wait, what went wrong?\n",
        "\n",
        "Why does this fail? Because the formula we used previously for calculating exclusive events did not take into account overlap OR intersection:\n",
        "\n",
        "$E(greater\\_than\\_five \\ OR \\ even) = \\{2, 4, 6, 7, 8, 9, 10\\}$\n",
        "\n",
        "The generic formula for this is:\n",
        "\n",
        "\n",
        "$\\large P(A \\ \\cup \\ B) = \\frac{n(A) \\ + \\ n(B) \\ - \\ n(A \\cap B)}{n(S)}$    "
      ]
    },
    {
      "cell_type": "markdown",
      "metadata": {
        "id": "Nq3FRRmUINOs"
      },
      "source": [
        "In the formula above, the intersection between two events is symbolized by this shape:\n",
        "\n",
        "$\\Large \\cap$\n",
        "\n",
        "And thus the intersection (or overlapping portion in a Venn diagram) is represented by:\n",
        "\n",
        "$\\large n(A \\cap B)$\n",
        "\n",
        "Similarly, the union between two events is symbolized by this shape:\n",
        "\n",
        "$\\Large \\cup$\n",
        "\n",
        "And thus the union in the formula is represented by:\n",
        "\n",
        "$\\large n(A \\cup B)$\n"
      ]
    },
    {
      "cell_type": "markdown",
      "metadata": {
        "id": "z6YxbUfIINOs"
      },
      "source": [
        "With this in mind, our previous calculation looks more like this:\n",
        "    \n",
        "$\\large P(A \\ \\cup \\ B) = \\frac{n(A) \\ + \\ n(B) \\ - \\ n(A \\cap B)}{n(S)}$   \n",
        "\n",
        "$\\large P(A \\ \\cup \\ B) = \\frac{5 \\ + \\ 5 \\ - \\ 3}{10} = \\frac{7}{10}$\n",
        "\n",
        "$\\large P(A \\ \\cup \\ B) = 0.7$\n",
        "    "
      ]
    },
    {
      "cell_type": "markdown",
      "metadata": {
        "id": "vdsfAnDOINOs"
      },
      "source": [
        "### Putting this into practice\n",
        "\n",
        "Let's explore this a bit using our Python function:\n",
        "\n",
        "What is the probability of rolling greater than a 5 on a d10 OR rolling an even number?"
      ]
    },
    {
      "cell_type": "code",
      "execution_count": 27,
      "metadata": {
        "id": "gEhHSPQdINOs",
        "outputId": "6978f403-d4f7-4faa-e40a-8a2f8f10aadb",
        "colab": {
          "base_uri": "https://localhost:8080/"
        }
      },
      "outputs": [
        {
          "output_type": "stream",
          "name": "stdout",
          "text": [
            "0.7\n"
          ]
        }
      ],
      "source": [
        "answer = P(10, [6, 7, 8, 9, 10]) + P(10, [2, 4, 6, 8, 10]) - P(10, [6, 8, 10])\n",
        "print(answer)"
      ]
    },
    {
      "cell_type": "markdown",
      "metadata": {
        "id": "YeVeKtuoINOs"
      },
      "source": [
        "What is the probability of drawing a red card from a standard deck OR drawing a King?\n",
        "\n",
        "As you can imagine, this becomes problematic as our sample size grows..."
      ]
    },
    {
      "cell_type": "markdown",
      "metadata": {
        "id": "oI6WQk67INOt"
      },
      "source": [
        "```python\n",
        "answer = P(52, ['AD', '2D', '3D', '4D', ...]) + P(52, ['KS', 'KC', 'KD', 'KH']) - P(52, ['KD', 'KH'])\n",
        "print(answer)\n",
        "```"
      ]
    },
    {
      "cell_type": "markdown",
      "metadata": {
        "id": "Gd3Z8DIzINOt"
      },
      "source": [
        "To get around this, we can alter our probability function... to simply allow us to input the size of our event space."
      ]
    },
    {
      "cell_type": "code",
      "execution_count": 28,
      "metadata": {
        "id": "jDx8IvhLINOt"
      },
      "outputs": [],
      "source": [
        "def probability(sample_size, event=None, event_size=None):\n",
        "    '''Return the probability of an event given the event and the sample size.\n",
        "    \n",
        "    event: the event argument may be composed of either\n",
        "    * multiple elements (i.e. a tuple OR list) (which are then counted) OR\n",
        "    * a single element which is equated internally to a count of one\n",
        "    \n",
        "    event_size: As an alternative to providing an event, you can simply provide your own count using\n",
        "    the event_size argument:\n",
        "    * an integer representing the number of elements in an event.\n",
        "    \n",
        "    Only one of these two (event OR event_size) should be provided.\n",
        "    \n",
        "    '''\n",
        "        \n",
        "    if isinstance(event, (list, tuple)):\n",
        "        count = len(event)\n",
        "    elif isinstance(event_size, int):\n",
        "        count = event_size\n",
        "    else:\n",
        "        count = 1\n",
        "    return count / sample_size\n",
        "\n",
        "# Again, let's provide an alias for our probability function...\n",
        "\n",
        "P = probability"
      ]
    },
    {
      "cell_type": "code",
      "execution_count": 24,
      "metadata": {
        "id": "qDVAJh9PINOt"
      },
      "outputs": [],
      "source": [
        "# red card\n",
        "# OR\n",
        "# king\n",
        "\n",
        "answer = P(52, event_size=26) + P(52, event_size=4) - P(52, event_size=2)"
      ]
    },
    {
      "cell_type": "markdown",
      "metadata": {
        "id": "5oRbUwOKINOt"
      },
      "source": [
        "As a sanity check... let's take a quick look at the each of the components of the formula."
      ]
    },
    {
      "cell_type": "code",
      "execution_count": 25,
      "metadata": {
        "id": "tCnmyZpBINOt",
        "outputId": "866455c4-1f73-4496-94a7-0c0d847cfe08",
        "colab": {
          "base_uri": "https://localhost:8080/"
        }
      },
      "outputs": [
        {
          "output_type": "stream",
          "name": "stdout",
          "text": [
            "P(red) 0.5\n",
            "P(king) 0.07692307692307693\n",
            "P(red kings) 0.038461538461538464\n"
          ]
        }
      ],
      "source": [
        "print('P(red)', P(52, event_size=26))\n",
        "print('P(king)', P(52, event_size=4))\n",
        "print('P(red kings)', P(52, event_size=2))"
      ]
    },
    {
      "cell_type": "code",
      "execution_count": 26,
      "metadata": {
        "id": "naGRkQDAINOu",
        "outputId": "0055e347-0af4-43f3-db1c-f2512f2dc938",
        "colab": {
          "base_uri": "https://localhost:8080/"
        }
      },
      "outputs": [
        {
          "output_type": "stream",
          "name": "stdout",
          "text": [
            "0.5384615384615384\n"
          ]
        }
      ],
      "source": [
        "# So, what is the answer?\n",
        "\n",
        "print(answer)"
      ]
    },
    {
      "cell_type": "markdown",
      "metadata": {
        "id": "DOp32yT-INOu"
      },
      "source": [
        "### Let's try it again...\n",
        "\n",
        "What is the probability of drawing a red card from a standard deck OR drawing a face card (King, Queen, Jack)?"
      ]
    },
    {
      "cell_type": "code",
      "execution_count": 29,
      "metadata": {
        "id": "-gi1kjWAINOu",
        "outputId": "743e1f38-7de2-4542-dfdb-a5a35c3a7594",
        "colab": {
          "base_uri": "https://localhost:8080/"
        }
      },
      "outputs": [
        {
          "output_type": "stream",
          "name": "stdout",
          "text": [
            "0.6153846153846154\n"
          ]
        }
      ],
      "source": [
        "answer = P(52, event_size=26) + P(52, event_size=12) - P(52, event_size=6)\n",
        "print(answer)"
      ]
    },
    {
      "cell_type": "code",
      "execution_count": 30,
      "metadata": {
        "id": "HfLYAf3UINOu",
        "outputId": "a8deae7c-5338-45c5-ab63-9773f578d162",
        "colab": {
          "base_uri": "https://localhost:8080/"
        }
      },
      "outputs": [
        {
          "output_type": "execute_result",
          "data": {
            "text/plain": [
              "0.6153846153846154"
            ]
          },
          "metadata": {},
          "execution_count": 30
        }
      ],
      "source": [
        "# If the problem is simple enough to do the arithmetic in your head, then that is fine, too:\n",
        "\n",
        "# 26 + 12 - 6 = 32\n",
        "\n",
        "P(52, event_size=32)"
      ]
    },
    {
      "cell_type": "markdown",
      "metadata": {
        "id": "OTahb4_fINOu"
      },
      "source": [
        "Imagine the 46 players in your board game group have favorite games in the following categories:\n",
        "    \n",
        "* pandemic ONLY (12 players)\n",
        "* pandemic AND carcassonne (6)\n",
        "* carcassonne ONLY (16)\n",
        "* carcassonne AND clank! (4)\n",
        "* clank! ONLY (8)"
      ]
    },
    {
      "cell_type": "markdown",
      "metadata": {
        "id": "sKBEYE50INOu"
      },
      "source": [
        "What is the probability of finding a **pandemic** player or a **carcassonne** player"
      ]
    },
    {
      "cell_type": "code",
      "execution_count": 31,
      "metadata": {
        "id": "qVaqJWMAINOu",
        "outputId": "c5d1f6d4-d32a-4f19-ac12-99431259e32b",
        "colab": {
          "base_uri": "https://localhost:8080/"
        }
      },
      "outputs": [
        {
          "output_type": "stream",
          "name": "stdout",
          "text": [
            "0.8411371237458194\n"
          ]
        }
      ],
      "source": [
        "answer = P(46, event_size=18) + P(46, event_size=26) - P(52, event_size=6)\n",
        "print(answer)"
      ]
    },
    {
      "cell_type": "markdown",
      "metadata": {
        "id": "7MIkqVr1INOu"
      },
      "source": [
        "What is the probability of finding a **carcassonne** player or a **clank!** player"
      ]
    },
    {
      "cell_type": "code",
      "execution_count": 32,
      "metadata": {
        "id": "9qHYuTtyINOu",
        "outputId": "71f6db13-60e8-4778-ef0c-c07c9e5e2a11",
        "colab": {
          "base_uri": "https://localhost:8080/"
        }
      },
      "outputs": [
        {
          "output_type": "stream",
          "name": "stdout",
          "text": [
            "0.7391304347826086\n"
          ]
        }
      ],
      "source": [
        "answer = P(46, event_size=34)\n",
        "print(answer)"
      ]
    },
    {
      "cell_type": "markdown",
      "metadata": {
        "id": "5U24IETtINOv"
      },
      "source": [
        "## Experience Points\n",
        "---"
      ]
    },
    {
      "cell_type": "markdown",
      "metadata": {
        "id": "dkM7YUl3INOv"
      },
      "source": [
        "### Complete the following exercises:"
      ]
    },
    {
      "cell_type": "markdown",
      "metadata": {
        "id": "qZ8PUj2EINOv"
      },
      "source": [
        "**A**. Use Python to calculate the probability of drawing a Black card OR an Ace, King, Queen, Jack, or 10"
      ]
    },
    {
      "cell_type": "code",
      "execution_count": 33,
      "metadata": {
        "id": "blPx4yVRINOv",
        "outputId": "6b924bf4-b9c2-4c32-a582-aacd4a545b44",
        "colab": {
          "base_uri": "https://localhost:8080/"
        }
      },
      "outputs": [
        {
          "output_type": "stream",
          "name": "stdout",
          "text": [
            "0.6923076923076923\n"
          ]
        }
      ],
      "source": [
        "answer = P(52, event_size=26) + P(52, event_size=16) + P(52, event_size=4) - P(52, event_size=10)\n",
        "print(answer)"
      ]
    },
    {
      "cell_type": "markdown",
      "metadata": {
        "id": "rMmaTMkhINOv"
      },
      "source": [
        "**B**. Use Python to calculate the probability of drawing a Diamond card OR an odd numeric card (3, 5, 7, 9)"
      ]
    },
    {
      "cell_type": "code",
      "execution_count": 34,
      "metadata": {
        "id": "Izx4uO8WINOv",
        "outputId": "eb8ed65e-44ed-43dc-dcf0-ec945f0b0225",
        "colab": {
          "base_uri": "https://localhost:8080/"
        }
      },
      "outputs": [
        {
          "output_type": "stream",
          "name": "stdout",
          "text": [
            "0.4807692307692308\n"
          ]
        }
      ],
      "source": [
        "answer = P(52, event_size=13) + P(52, event_size=16) - P(52, event_size=4)\n",
        "print(answer)"
      ]
    },
    {
      "cell_type": "markdown",
      "metadata": {
        "id": "FTs8TZ8fINOv"
      },
      "source": [
        "**C**. Use Python to calculate the probability of drawing a Diamond or Spade card OR a numeric card (2 - 10)"
      ]
    },
    {
      "cell_type": "code",
      "execution_count": 35,
      "metadata": {
        "id": "8efQoxdoINOv",
        "outputId": "a7301361-7e7d-4e5a-ecd3-439315803f52",
        "colab": {
          "base_uri": "https://localhost:8080/"
        }
      },
      "outputs": [
        {
          "output_type": "stream",
          "name": "stdout",
          "text": [
            "0.8461538461538461\n"
          ]
        }
      ],
      "source": [
        "answer = P(52, event_size=13) + P(52, event_size=13) + P(52, event_size=36) - P(52, event_size=18)\n",
        "print(answer)"
      ]
    }
  ],
  "metadata": {
    "kernelspec": {
      "display_name": "Python 3",
      "language": "python",
      "name": "python3"
    },
    "language_info": {
      "codemirror_mode": {
        "name": "ipython",
        "version": 3
      },
      "file_extension": ".py",
      "mimetype": "text/x-python",
      "name": "python",
      "nbconvert_exporter": "python",
      "pygments_lexer": "ipython3",
      "version": "3.6.4"
    },
    "colab": {
      "provenance": [],
      "collapsed_sections": [
        "2XoevgilINOk",
        "8FsGQdL5INOn",
        "sQ8pqHnUINOp",
        "0Q9FKRhWINOs",
        "vdsfAnDOINOs",
        "DOp32yT-INOu",
        "dkM7YUl3INOv"
      ]
    }
  },
  "nbformat": 4,
  "nbformat_minor": 0
}