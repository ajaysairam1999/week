{
  "cells": [
    {
      "cell_type": "markdown",
      "metadata": {
        "id": "KbAKXm_aQAmy"
      },
      "source": [
        "# Welcome to the Dark Art of Coding:\n",
        "## Introduction to Data Science Fundamentals\n",
        "Basic Statistics\n",
        "\n",
        "From count, min, max to variance/standard deviation\n",
        "\n",
        "<img src='https://github.com/chalmerlowe/stats_and_probability/blob/master/images/logos.3.600.wide.png?raw=1' height='250' width='300' style=\"float:right\">\n",
        "\n",
        "[source](https://github.com/chalmerlowe)"
      ]
    },
    {
      "cell_type": "markdown",
      "metadata": {
        "id": "dv6cIYfXQAmz"
      },
      "source": [
        "# Main objectives\n",
        "---"
      ]
    },
    {
      "cell_type": "markdown",
      "metadata": {
        "id": "diXPkyj2QAmz"
      },
      "source": [
        "At the end of this lesson, you will be able to:\n",
        "\n",
        "* Understand how to calculate counts, minimums and maximums\n",
        "* Understand the measures of central tendencies and the differences between: \n",
        "   * mean\n",
        "   * median\n",
        "   * mode\n",
        "* Understand measures of dispersion and the differences between:\n",
        "   * simple spread\n",
        "   * quantiles\n",
        "   * interquartile ranges\n",
        "   * variance\n",
        "   * standard deviation"
      ]
    },
    {
      "cell_type": "markdown",
      "metadata": {
        "id": "GctmRQsiQAm0"
      },
      "source": [
        "# A broad overview\n",
        "---\n",
        "\n",
        "\n"
      ]
    },
    {
      "cell_type": "markdown",
      "metadata": {
        "id": "GulfB-QlQAm0"
      },
      "source": [
        "To help us understand some of the concepts we are gonna explore, we will explore most of these measures in several ways:\n",
        "\n",
        "* through small, simple datasets\n",
        "* through a larger more sophisticated dataset\n",
        "* through hand-developed code\n",
        "* through related functions found in Python's Standard Library and in major data science libraries such as numpy, scipy, and pandas "
      ]
    },
    {
      "cell_type": "markdown",
      "metadata": {
        "id": "vT4ydrkQQAm1"
      },
      "source": [
        "To get us started, let's take a look at our large dataset. To do so, we will plot the data using the `matplotlib` library. "
      ]
    },
    {
      "cell_type": "markdown",
      "metadata": {
        "id": "ALgNnNeyQAm1"
      },
      "source": [
        "## Defects in batches of parts\n",
        "\n",
        "Let's simulate the number of defects within a series of part batches.\n",
        "\n",
        "Given any batch of parts, some of the parts will be defective.\n",
        "\n",
        "Each number below represents the number of defects within a given batch.\n",
        "\n",
        "**NOTE**: I manually organized these by roughly by size to make it easier to discuss."
      ]
    },
    {
      "cell_type": "code",
      "execution_count": 1,
      "metadata": {
        "collapsed": true,
        "id": "RhrJ_rRqQAm1"
      },
      "outputs": [],
      "source": [
        "num_defects =  [99, 52, 42, 44, 27, 22, 22, 24, 22, 21,\n",
        "                21, 18, 18, 15, 19, 19, 18, 17, 18, 16,\n",
        "                16, 17, 18, 15, 15, 13, 11, 14, 14, 13,\n",
        "                14, 14, 14, 13, 14, 14, 14, 14, 12, 14,\n",
        "                13, 12, 11, 12, 13, 13, 12, 13, 11, 13,\n",
        "                11, 12, 12, 10, 10, 11, 12, 13, 10, 12,\n",
        "                11, 10, 12, 12, 11, 11, 9, 9, 9, 11,\n",
        "                12, 8, 8, 10, 8, 10, 11, 10, 9, 10,\n",
        "                10, 8, 8, 11, 10, 9, 8, 8, 10, 10,\n",
        "                7, 7, 7, 8, 8, 7, 7, 8, 7, 7,\n",
        "                9, 7, 7, 10, 7, 8, 9, 9, 6, 6,\n",
        "                8, 8, 9, 7, 7, 9, 6, 8, 9, 8,\n",
        "                9, 9, 6, 8, 9, 7, 8, 6, 8, 6,\n",
        "                6, 6, 6, 6, 6, 8, 7, 8, 7, 5,\n",
        "                6, 8, 8, 8, 8, 5, 4, 6, 6, 4,\n",
        "                6, 6, 4, 5, 7, 5, 7, 6, 5, 4,\n",
        "                6, 4, 7, 5, 6, 4, 4, 6, 6, 3,\n",
        "                5, 6, 6, 4, 6, 3, 3, 3, 5, 5,\n",
        "                5, 3, 2, 5, 2, 3, 2, 4, 3, 2,\n",
        "                5, 2, 2, 2, 3, 4, 4, 4, 5, 5,\n",
        "                3, 5, 4, 2]         "
      ]
    },
    {
      "cell_type": "code",
      "execution_count": 2,
      "metadata": {
        "collapsed": true,
        "id": "LXzBKCZrQAm2"
      },
      "outputs": [],
      "source": [
        "# The following enables inline plots\n",
        "# and import matplotlib.pyplot uses plt as an alias\n",
        "\n",
        "%matplotlib inline\n",
        "import matplotlib.pyplot as plt"
      ]
    },
    {
      "cell_type": "code",
      "execution_count": 3,
      "metadata": {
        "collapsed": true,
        "id": "Bk-E792AQAm3"
      },
      "outputs": [],
      "source": [
        "# importing the Counter class helps us simplify the counting process\n",
        "\n",
        "from collections import Counter"
      ]
    },
    {
      "cell_type": "markdown",
      "metadata": {
        "id": "aSUChiFTQAm3"
      },
      "source": [
        "# Simple Histogram\n",
        "---"
      ]
    },
    {
      "cell_type": "markdown",
      "metadata": {
        "id": "5-J5vc5tQAm3"
      },
      "source": [
        "We will start off with a simple display of the most frequent values in the dataset using `Counter`'s `.most_common()` method.\n",
        "\n",
        "From there, we will use a histogram to help visualize our defects data and then we will use various statistical evaluations to examine that data in greater detail."
      ]
    },
    {
      "cell_type": "code",
      "execution_count": 4,
      "metadata": {
        "id": "7gvqw7-0QAm3",
        "colab": {
          "base_uri": "https://localhost:8080/"
        },
        "outputId": "ec64026b-1a28-4c3b-e2f0-54e0503ebe65"
      },
      "outputs": [
        {
          "output_type": "stream",
          "name": "stdout",
          "text": [
            "8 >   24\n",
            "6 >   24\n",
            "7 >   18\n",
            "5 >   15\n",
            "9 >   14\n"
          ]
        }
      ],
      "source": [
        "# Let's count how many times each defect count appears\n",
        "#     and look at the five most frequent counts\n",
        "\n",
        "defect_counts = Counter(num_defects)\n",
        "\n",
        "for defect_count, freq in defect_counts.most_common(5):\n",
        "    print(defect_count, '>  ', freq)"
      ]
    },
    {
      "cell_type": "markdown",
      "metadata": {
        "id": "kHsRHUlZQAm4"
      },
      "source": [
        "## Counters behave a lot like dictionaries, but...\n",
        "\n",
        "For those who have NOT used Counters before should know that while they might look a lot like dictionaries they not only have the addition `.most_common()` method, they also have another interesting feature\n",
        "\n",
        "If you look up a key that does not exist, you get back a `0` value (versus a `KeyError` that you would get back from a dictionary).\n",
        "\n",
        "For example...\n",
        "\n",
        "```\n",
        ">>> defect_count[77]     # does NOT exist in the Counter\n",
        "0\n",
        "\n",
        ">>> defect_count[8]      # does exist\n",
        "24\n",
        "```"
      ]
    },
    {
      "cell_type": "markdown",
      "metadata": {
        "id": "Y7ZcJMjSQAm4"
      },
      "source": [
        "## Let's create a series of x values and y values"
      ]
    },
    {
      "cell_type": "code",
      "execution_count": 5,
      "metadata": {
        "collapsed": true,
        "id": "lHE-qhrnQAm4",
        "colab": {
          "base_uri": "https://localhost:8080/"
        },
        "outputId": "3ceb0610-b82d-4572-857f-af313f233a89"
      },
      "outputs": [
        {
          "output_type": "stream",
          "name": "stdout",
          "text": [
            "[0, 1, 2, 3, 4, 5, 6, 7, 8, 9, 10, 11, 12, 13, 14, 15, 16, 17, 18, 19, 20, 21, 22, 23, 24, 25, 26, 27, 28, 29, 30, 31, 32, 33, 34, 35, 36, 37, 38, 39, 40, 41, 42, 43, 44, 45, 46, 47, 48, 49, 50, 51, 52, 53, 54, 55, 56, 57, 58, 59, 60, 61, 62, 63, 64, 65, 66, 67, 68, 69, 70, 71, 72, 73, 74, 75, 76, 77, 78, 79, 80, 81, 82, 83, 84, 85, 86, 87, 88, 89, 90, 91, 92, 93, 94, 95, 96, 97, 98, 99, 100]\n",
            "\n",
            "[0, 0, 8, 9, 13, 15, 24, 18, 24, 14, 13, 11, 11, 9, 10, 3, 2, 2, 5, 2, 0, 2, 3, 0, 1, 0, 0, 1, 0, 0, 0, 0, 0, 0, 0, 0, 0, 0, 0, 0, 0, 0, 1, 0, 1, 0, 0, 0, 0, 0, 0, 0, 1, 0, 0, 0, 0, 0, 0, 0, 0, 0, 0, 0, 0, 0, 0, 0, 0, 0, 0, 0, 0, 0, 0, 0, 0, 0, 0, 0, 0, 0, 0, 0, 0, 0, 0, 0, 0, 0, 0, 0, 0, 0, 0, 0, 0, 0, 0, 1, 0]\n"
          ]
        }
      ],
      "source": [
        "# We will start off by creating a series of x values\n",
        "#     and then parse the defect counts for each x value.\n",
        "# In this case, if we try to extract the value associated with a key\n",
        "#     that does not exist, we simply get back a 0.\n",
        "\n",
        "x_values = list(range(101))\n",
        "y_values = [defect_counts[x] for x in x_values]\n",
        "\n",
        "print(x_values)\n",
        "print()\n",
        "print(y_values)"
      ]
    },
    {
      "cell_type": "code",
      "execution_count": 6,
      "metadata": {
        "id": "80HMB0cnQAm4",
        "colab": {
          "base_uri": "https://localhost:8080/",
          "height": 745
        },
        "outputId": "baf22adb-05fa-420b-b080-3098fc3666ac"
      },
      "outputs": [
        {
          "output_type": "display_data",
          "data": {
            "text/plain": [
              "<Figure size 1200x1000 with 1 Axes>"
            ],
            "image/png": "[encoded data removed]"
          },
          "metadata": {}
        }
      ],
      "source": [
        "# Let's craft a bar chart using our x and y values...\n",
        "#     For now, I don't want to focus too much on the mechanics of creating the \n",
        "#     graph... just on what the graph can tell us at a glance\n",
        "\n",
        "#     We will use this picture to help us get a sense for what the data looks like\n",
        "\n",
        "plt.figure(figsize=(12, 10))\n",
        "plt.bar(x_values, y_values)\n",
        "plt.axis([0, 105, 0, 25])\n",
        "plt.title('Frequency of defects detected')\n",
        "plt.xlabel('# of defects')\n",
        "plt.ylabel('# of batchs')\n",
        "plt.show()"
      ]
    },
    {
      "cell_type": "markdown",
      "metadata": {
        "id": "9AWQunjNQAm4"
      },
      "source": [
        "# Simple statistics: "
      ]
    },
    {
      "cell_type": "markdown",
      "metadata": {
        "id": "sv-xn915QAm4"
      },
      "source": [
        "* count\n",
        "* maximum\n",
        "* minimum"
      ]
    },
    {
      "cell_type": "code",
      "execution_count": 7,
      "metadata": {
        "id": "BU6GC64aQAm5",
        "colab": {
          "base_uri": "https://localhost:8080/"
        },
        "outputId": "c48cc3af-f9d7-4901-8e33-03a084bf3623"
      },
      "outputs": [
        {
          "output_type": "stream",
          "name": "stdout",
          "text": [
            "Number of data points: 204\n"
          ]
        }
      ],
      "source": [
        "# len() returns the total number of elements in a Python sequence\n",
        "\n",
        "num_points = len(num_defects)\n",
        "\n",
        "print(\"Number of data points:\", num_points)"
      ]
    },
    {
      "cell_type": "code",
      "execution_count": 8,
      "metadata": {
        "id": "NDCejNayQAm5",
        "colab": {
          "base_uri": "https://localhost:8080/"
        },
        "outputId": "77fa9055-2727-4cb8-c608-043abb0c2f9c"
      },
      "outputs": [
        {
          "output_type": "stream",
          "name": "stdout",
          "text": [
            "Largest value: 99\n",
            "Smallest value: 2\n"
          ]
        }
      ],
      "source": [
        "# max() and min() return the maximum (or minimum) value from a \n",
        "#     Python sequence\n",
        "\n",
        "largest_value = max(num_defects)\n",
        "smallest_value = min(num_defects)\n",
        "\n",
        "print(\"Largest value:\", largest_value)\n",
        "print(\"Smallest value:\", smallest_value)"
      ]
    },
    {
      "cell_type": "markdown",
      "metadata": {
        "id": "qVKaqwKYQAm5"
      },
      "source": [
        "# Central Tendencies"
      ]
    },
    {
      "cell_type": "markdown",
      "metadata": {
        "id": "mHFPmRB5QAm5"
      },
      "source": [
        "Measures of central tendency (also called measures of location) give us an idea of what constitutes a typical or common value for a given data set. The three most common measures of central tendency are: \n",
        "\n",
        "* mean (also referred to as the arithmetic mean)\n",
        "* median\n",
        "* mode\n",
        "\n",
        "To start off, we will create our own code to calculate these values, but we will shortly turn to more efficient functions offered by Python Libraries. The purpose of the dive into handmade functions to give ourselves a chance to discuss the principles involved."
      ]
    },
    {
      "cell_type": "markdown",
      "metadata": {
        "id": "hKxq3-CsQAm5"
      },
      "source": [
        "## mean"
      ]
    },
    {
      "cell_type": "markdown",
      "metadata": {
        "id": "gMK90N-AQAm5"
      },
      "source": [
        "The arithmetic mean is what we commonly refer to as the average. It is generally calculated as the total OR sum of all the values divided by the number of values."
      ]
    },
    {
      "cell_type": "code",
      "execution_count": 9,
      "metadata": {
        "collapsed": true,
        "id": "ZXRUBdwyQAm5"
      },
      "outputs": [],
      "source": [
        "def mean(values):\n",
        "    '''Return the mean (or average) of a sequence of values.\n",
        "    \n",
        "    >>> mean([1, 2, 3, 4])\n",
        "    2.5\n",
        "    \n",
        "    >>> mean([1, 2, 3, 4, 5])\n",
        "    3.0\n",
        "    \n",
        "    '''\n",
        "    return sum(values) / len(values)"
      ]
    },
    {
      "cell_type": "code",
      "execution_count": 10,
      "metadata": {
        "id": "JfXyme7wQAm6",
        "colab": {
          "base_uri": "https://localhost:8080/"
        },
        "outputId": "7a73b608-f0a7-485f-f2d8-c1b942ab15d9"
      },
      "outputs": [
        {
          "output_type": "execute_result",
          "data": {
            "text/plain": [
              "2.5"
            ]
          },
          "metadata": {},
          "execution_count": 10
        }
      ],
      "source": [
        "# temporarily, let's use a small number of values\n",
        "\n",
        "mean([1, 2, 3, 4])         # even number of values"
      ]
    },
    {
      "cell_type": "code",
      "execution_count": 12,
      "metadata": {
        "id": "6iaBls3KQAm6",
        "colab": {
          "base_uri": "https://localhost:8080/"
        },
        "outputId": "29f355b5-2e28-49ff-a07c-96a616ed0beb"
      },
      "outputs": [
        {
          "output_type": "execute_result",
          "data": {
            "text/plain": [
              "3.0"
            ]
          },
          "metadata": {},
          "execution_count": 12
        }
      ],
      "source": [
        "mean([1, 2, 3, 4, 5])      # odd number of values"
      ]
    },
    {
      "cell_type": "markdown",
      "metadata": {
        "id": "DOw73GeHQAm6"
      },
      "source": [
        "Now, let's apply this to our larger dataset:"
      ]
    },
    {
      "cell_type": "code",
      "execution_count": 11,
      "metadata": {
        "id": "URTxT6VCQAm6",
        "colab": {
          "base_uri": "https://localhost:8080/"
        },
        "outputId": "75859542-9129-4870-a407-4e63ba55580c"
      },
      "outputs": [
        {
          "output_type": "execute_result",
          "data": {
            "text/plain": [
              "9.965686274509803"
            ]
          },
          "metadata": {},
          "execution_count": 11
        }
      ],
      "source": [
        "mean(num_defects)"
      ]
    },
    {
      "cell_type": "markdown",
      "metadata": {
        "id": "CJLUYmgvQAm6"
      },
      "source": [
        "## median"
      ]
    },
    {
      "cell_type": "markdown",
      "metadata": {
        "id": "1CgLW9cFQAm6"
      },
      "source": [
        "The median is the center-most value in a sorted sequence of values.\n",
        "\n",
        "**NOTE**: If there are an even number of items, the median is the average of the two center-most values.\n"
      ]
    },
    {
      "cell_type": "code",
      "execution_count": 13,
      "metadata": {
        "collapsed": true,
        "id": "dLnWMse7QAm6"
      },
      "outputs": [],
      "source": [
        "def median(values):\n",
        "    \"\"\"Return the median value from a sequence of values\n",
        "    \n",
        "    >>> median([1, 3, 5])          # odd number of values\n",
        "    3\n",
        "    \n",
        "    >>> median([1, 3, 5, 7])       # even number of values\n",
        "    4.0\n",
        "    \"\"\"\n",
        "    \n",
        "    sorted_values = sorted(values)\n",
        "    num = len(values)\n",
        "    centerpoint = num // 2         # find the index for the midpoint, truncating\n",
        "                                   #     any floats...\n",
        "    \n",
        "    if num % 2 == 1: \n",
        "        # return the center value \n",
        "        #     if n is ODD\n",
        "        return sorted_values[centerpoint]\n",
        "    \n",
        "    else:\n",
        "        # return the average of the two center-most values\n",
        "        #     if num is EVEN\n",
        "        c1 = centerpoint - 1\n",
        "        c2 = centerpoint\n",
        "        return (sorted_values[c1] + sorted_values[c2]) / 2\n",
        "    "
      ]
    },
    {
      "cell_type": "code",
      "execution_count": 14,
      "metadata": {
        "id": "j9TUwvDMQAm7",
        "colab": {
          "base_uri": "https://localhost:8080/"
        },
        "outputId": "35cd2c86-8a28-4ace-93d7-38bb073dc91e"
      },
      "outputs": [
        {
          "output_type": "execute_result",
          "data": {
            "text/plain": [
              "2"
            ]
          },
          "metadata": {},
          "execution_count": 14
        }
      ],
      "source": [
        "# median of an odd number of values\n",
        "\n",
        "odd = [1, 2, 3]\n",
        "\n",
        "median(odd)"
      ]
    },
    {
      "cell_type": "code",
      "execution_count": 15,
      "metadata": {
        "id": "SwCvntMyQAm7",
        "colab": {
          "base_uri": "https://localhost:8080/"
        },
        "outputId": "64baaa2d-f5ce-4c3e-d61e-6763301d6165"
      },
      "outputs": [
        {
          "output_type": "execute_result",
          "data": {
            "text/plain": [
              "5.5"
            ]
          },
          "metadata": {},
          "execution_count": 15
        }
      ],
      "source": [
        "# median of an even number of values\n",
        "# REMINDER: median sorts the values in the sequence before \n",
        "#     returning any values\n",
        "\n",
        "even = [42, 1, 5, 6]\n",
        "\n",
        "median(even)    "
      ]
    },
    {
      "cell_type": "code",
      "execution_count": 16,
      "metadata": {
        "id": "tzzJJK--QAm7",
        "colab": {
          "base_uri": "https://localhost:8080/"
        },
        "outputId": "45c6c550-ea17-412e-b175-0da0a20c0706"
      },
      "outputs": [
        {
          "output_type": "execute_result",
          "data": {
            "text/plain": [
              "8.0"
            ]
          },
          "metadata": {},
          "execution_count": 16
        }
      ],
      "source": [
        "# median num of tweets recieved\n",
        "\n",
        "median(num_defects)"
      ]
    },
    {
      "cell_type": "markdown",
      "metadata": {
        "id": "egV_CU4NQAm7"
      },
      "source": [
        "## mode"
      ]
    },
    {
      "cell_type": "markdown",
      "metadata": {
        "id": "ByhI-NXNQAm7"
      },
      "source": [
        "The mode is the most frequently found value in a sequence of values.\n"
      ]
    },
    {
      "cell_type": "code",
      "execution_count": 17,
      "metadata": {
        "collapsed": true,
        "id": "8mpy0XTYQAm8"
      },
      "outputs": [],
      "source": [
        "from collections import Counter\n",
        "\n",
        "def mode(values):\n",
        "    \"\"\"Returns a list of the most common (frequent) value(s) \n",
        "    \n",
        "    If there is more than one element with the SAME maximum frequency, then\n",
        "    return all such elements as a list\n",
        "    \"\"\"\n",
        "    \n",
        "    mode_values = {}\n",
        "    counts = Counter(values)\n",
        "    max_count = max(counts.values())\n",
        "    \n",
        "    return [value for value, count in counts.items() if count == max_count]        "
      ]
    },
    {
      "cell_type": "code",
      "execution_count": 52,
      "metadata": {
        "id": "IAwkT9YCQAm8",
        "colab": {
          "base_uri": "https://localhost:8080/"
        },
        "outputId": "74fa124f-f10f-456a-e1d7-3297369c0b26"
      },
      "outputs": [
        {
          "output_type": "execute_result",
          "data": {
            "text/plain": [
              "[4]"
            ]
          },
          "metadata": {},
          "execution_count": 52
        }
      ],
      "source": [
        "mode([1, 2, 3, 4, 4, 4])     # single number (4) is the most frequent"
      ]
    },
    {
      "cell_type": "code",
      "execution_count": 32,
      "metadata": {
        "id": "QThJqQsfQAm8",
        "colab": {
          "base_uri": "https://localhost:8080/"
        },
        "outputId": "774d0b48-06f7-4cb9-cc9e-a75036ebca6b"
      },
      "outputs": [
        {
          "output_type": "execute_result",
          "data": {
            "text/plain": [
              "[1, 5]"
            ]
          },
          "metadata": {},
          "execution_count": 32
        }
      ],
      "source": [
        "mode([1, 1, 1, 2, 3, 4, 5, 5, 5])     # two numbers (1 and 5) are most frequent\n",
        "                                      # this dataset has more than one trend >>> it is called bimodal"
      ]
    },
    {
      "cell_type": "code",
      "execution_count": 33,
      "metadata": {
        "id": "BzhFPW1iQAm8",
        "colab": {
          "base_uri": "https://localhost:8080/"
        },
        "outputId": "504ce36d-cf9c-4b04-c8e4-8472ac4c9e74"
      },
      "outputs": [
        {
          "output_type": "execute_result",
          "data": {
            "text/plain": [
              "[8, 6]"
            ]
          },
          "metadata": {},
          "execution_count": 33
        }
      ],
      "source": [
        "mode(num_defects)"
      ]
    },
    {
      "cell_type": "markdown",
      "metadata": {
        "id": "kCnx3m8_QAm8"
      },
      "source": [
        "## mean vs median vs mode"
      ]
    },
    {
      "cell_type": "markdown",
      "metadata": {
        "id": "I7PXHxmNQAm8"
      },
      "source": [
        "For a quick review of the differences between mean, median and mode:\n",
        "\n",
        "||Calculation|Application|\n",
        "|:--|:---|:---|\n",
        "|mean|sum of values/number of values|symmetrical data with only one trend|\n",
        "|median|middle value of a sorted sequence of values|skewed data with outlier(s)|\n",
        "|mode|most frequent value(s)|categorical data OR data with more than one trend/cluster|\n"
      ]
    },
    {
      "cell_type": "markdown",
      "metadata": {
        "id": "m9dfNmQ_QAm9"
      },
      "source": [
        "## frequency table\n",
        "\n",
        "Along with `mean`, `mode`, `median` it is sometimes useful to see more broadly how frequently the various values appear. A frequency table is useful for this:"
      ]
    },
    {
      "cell_type": "code",
      "execution_count": 18,
      "metadata": {
        "collapsed": true,
        "id": "5kvRhL2_QAm9"
      },
      "outputs": [],
      "source": [
        "from collections import Counter\n",
        "\n",
        "def freq_table(values):\n",
        "    \"\"\"Returns a series of values and counts in a frequency table \n",
        "    \"\"\"\n",
        "    \n",
        "    frequencies = Counter(values)\n",
        "    print('Value\\tFrequency')\n",
        "    \n",
        "    for value, count in frequencies.most_common():\n",
        "        print('{}\\t{}'.format(value, count))"
      ]
    },
    {
      "cell_type": "code",
      "execution_count": 57,
      "metadata": {
        "id": "LzJfxWyfQAm9",
        "colab": {
          "base_uri": "https://localhost:8080/"
        },
        "outputId": "85bb2484-eee5-41a6-c50f-7d0adb2f5b66"
      },
      "outputs": [
        {
          "output_type": "stream",
          "name": "stdout",
          "text": [
            "Value\tFrequency\n",
            "9\t3\n",
            "6\t2\n",
            "7\t1\n",
            "8\t1\n"
          ]
        }
      ],
      "source": [
        "freq_table([7, 8, 9, 9, 9, 6, 6])"
      ]
    },
    {
      "cell_type": "code",
      "execution_count": 19,
      "metadata": {
        "id": "dw941eBvQAm9",
        "colab": {
          "base_uri": "https://localhost:8080/"
        },
        "outputId": "88953441-fed1-4b94-aeb4-ba5f5ac2333f"
      },
      "outputs": [
        {
          "output_type": "stream",
          "name": "stdout",
          "text": [
            "Value\tFrequency\n",
            "8\t24\n",
            "6\t24\n",
            "7\t18\n",
            "5\t15\n",
            "9\t14\n",
            "10\t13\n",
            "4\t13\n",
            "11\t11\n",
            "12\t11\n",
            "14\t10\n",
            "13\t9\n",
            "3\t9\n",
            "2\t8\n",
            "18\t5\n",
            "22\t3\n",
            "15\t3\n",
            "21\t2\n",
            "19\t2\n",
            "17\t2\n",
            "16\t2\n",
            "99\t1\n",
            "52\t1\n",
            "42\t1\n",
            "44\t1\n",
            "27\t1\n",
            "24\t1\n"
          ]
        }
      ],
      "source": [
        "freq_table(defect_counts)"
      ]
    },
    {
      "cell_type": "markdown",
      "metadata": {
        "id": "DUNDtX3JQAm9"
      },
      "source": [
        "# Experience Points\n",
        "---"
      ]
    },
    {
      "cell_type": "markdown",
      "metadata": {
        "id": "oMaSb-b0QAm9"
      },
      "source": [
        "## Complete the following exercises:\n",
        "\n"
      ]
    },
    {
      "cell_type": "markdown",
      "metadata": {
        "id": "tEAt9eoLQAm9"
      },
      "source": [
        "**A**. Given a list of values:\n",
        "`values = [1, 2, 3, 4, 5, 11, 12, 13, 14, 15]`\n",
        "\n",
        "Calculate the following results:\n",
        "\n",
        "* mean\n",
        "* median\n",
        "* mode\n",
        "* number of values (count)\n",
        "* maximum value\n",
        "* minimum value\n",
        "\n",
        "\n"
      ]
    },
    {
      "cell_type": "code",
      "execution_count": 20,
      "metadata": {
        "id": "PpeO7pa8QAm-",
        "colab": {
          "base_uri": "https://localhost:8080/"
        },
        "outputId": "0e31273d-f8bb-4db6-c663-c433cfbb848f"
      },
      "outputs": [
        {
          "output_type": "stream",
          "name": "stdout",
          "text": [
            "the mean is: 8.0\n",
            "the median is: 8.0\n",
            "Mode of List values is 1\n",
            "number of values: 10\n",
            "Maximum value: 15\n",
            "Minimum value: 1\n"
          ]
        }
      ],
      "source": [
        "import numpy as np\n",
        "values = [1, 2, 3, 4, 5, 11, 12, 13, 14, 15]\n",
        "mean = np.mean(values)\n",
        "print('the mean is:', mean)\n",
        "median = np.median(values)\n",
        "print('the median is:', median)\n",
        "print(\"Mode of List values is % s\" % (max(set(values), key = values.count)))\n",
        "print(\"number of values:\", len(values))\n",
        "print(\"Maximum value:\", max(values))\n",
        "print(\"Minimum value:\", min(values))\n"
      ]
    },
    {
      "cell_type": "markdown",
      "metadata": {
        "id": "_Ee4qpUrQAm-"
      },
      "source": [
        "**B**. Given a sequence of values available from the Python `range()` object starting at 100 up to, but not including 1000 with a step of 3 (i.e. `100, 103, 106 ... 994, 997`):\n",
        "\n",
        "`nums = range(100, 1000, 3)`\n",
        "\n",
        "Calculate the following results:\n",
        "\n",
        "* mean\n",
        "* median\n",
        "* mode\n",
        "* number of values (count)\n",
        "* maximum value\n",
        "* minimum value"
      ]
    },
    {
      "cell_type": "code",
      "execution_count": 21,
      "metadata": {
        "id": "HEIYWkNpQAm-",
        "colab": {
          "base_uri": "https://localhost:8080/"
        },
        "outputId": "6973c7ab-314b-4317-ac35-aceb4125f01e"
      },
      "outputs": [
        {
          "output_type": "stream",
          "name": "stdout",
          "text": [
            "the mean is: 548.5\n",
            "the median is: 548.5\n",
            "Mode of List nums is 514\n",
            "number of nums: 300\n",
            "Maximum nums: 997\n",
            "Minimum nums: 100\n"
          ]
        }
      ],
      "source": [
        "import numpy as np\n",
        "nums = range(100, 1000, 3)\n",
        "mean = np.mean(nums)\n",
        "print('the mean is:', mean)\n",
        "median = np.median(nums)\n",
        "print('the median is:', median)\n",
        "print(\"Mode of List nums is % s\" % (max(set(nums), key = nums.count)))\n",
        "print(\"number of nums:\", len(nums))\n",
        "print(\"Maximum nums:\", max(nums))\n",
        "print(\"Minimum nums:\", min(nums))"
      ]
    },
    {
      "cell_type": "markdown",
      "metadata": {
        "id": "4u6Ghtr4QAm-"
      },
      "source": [
        "# Measures of Dispersion\n",
        "\n",
        "Dispersion is a representation of how varied OR spread out our data is. Dispersion may also be refered to as measures of variability OR measures of spread."
      ]
    },
    {
      "cell_type": "markdown",
      "metadata": {
        "id": "5kfjqSaBQAm-"
      },
      "source": [
        "## Simple spread\n",
        "\n",
        "Using the maximum and minimum values, you can calculate the range of spread."
      ]
    },
    {
      "cell_type": "code",
      "execution_count": 22,
      "metadata": {
        "collapsed": true,
        "id": "5cBQcvuWQAm-"
      },
      "outputs": [],
      "source": [
        "def data_range(x):\n",
        "    '''Returns the range (i.e. the difference) between the \n",
        "    highest and lowest values\n",
        "    '''\n",
        "    \n",
        "    return max(x) - min(x)"
      ]
    },
    {
      "cell_type": "code",
      "execution_count": 23,
      "metadata": {
        "id": "JWIoAJBaQAm-",
        "colab": {
          "base_uri": "https://localhost:8080/"
        },
        "outputId": "f92534d5-f724-4183-e720-ab96f1bd0532"
      },
      "outputs": [
        {
          "output_type": "execute_result",
          "data": {
            "text/plain": [
              "4"
            ]
          },
          "metadata": {},
          "execution_count": 23
        }
      ],
      "source": [
        "data_range([5, 3, 4, 2, 1])"
      ]
    },
    {
      "cell_type": "code",
      "execution_count": 24,
      "metadata": {
        "id": "I1OqDLdcQAm-",
        "colab": {
          "base_uri": "https://localhost:8080/"
        },
        "outputId": "cbf7f039-52ad-4988-de87-f3fa176859c3"
      },
      "outputs": [
        {
          "output_type": "execute_result",
          "data": {
            "text/plain": [
              "97"
            ]
          },
          "metadata": {},
          "execution_count": 24
        }
      ],
      "source": [
        "data_range(num_defects)"
      ]
    },
    {
      "cell_type": "markdown",
      "metadata": {
        "id": "sc0vQsBFQAm_"
      },
      "source": [
        "## Downsides of using simple spread:\n",
        "\n",
        "A simple spread is very susceptible to outliers which may not take into account where the **majority** of the datapoints lie...\n",
        "\n",
        "In the first example, below, the majority of the values are near 7. In the second example, with one exception, the majority of the values are still near 7, but the ranges are vastly different.\n",
        "\n",
        "```\n",
        "Example 1: [7, 6, 7, 5, 7, 8]    # range of 3 \n",
        "Example 2: [7, 6, 7, 5, 7, 99]   # range of 94\n",
        "```"
      ]
    },
    {
      "cell_type": "code",
      "execution_count": null,
      "metadata": {
        "collapsed": true,
        "id": "kTRu5bBlQAm_"
      },
      "outputs": [],
      "source": []
    },
    {
      "cell_type": "markdown",
      "metadata": {
        "id": "I4hXld7DQAm_"
      },
      "source": [
        "## Quantiles and interquartile ranges\n",
        "\n",
        "A method to overcome the weakness of simple spread is to use a narrower range. One way to create a narrower range is to calculate quantiles and interquartile ranges.\n",
        "\n",
        "|Term|Definition|\n",
        "|:--- |:--- |\n",
        "|quantile|a cutpoint OR dividing point in a range of values creating contiguous intervals with equal probabilities|\n",
        "|quartile|a value that cuts your data into quarters|\n",
        "|interquartile range|the range between the lower quartile and upper quartile|"
      ]
    },
    {
      "cell_type": "markdown",
      "metadata": {
        "id": "0sqHHIXXQAm_"
      },
      "source": [
        "We are gonna construct some basic functions. Please note: these are for example only and lack some of the sophistication needed to be used in production. This lack of sophistication yields a lack of precision, etc. But they should be good enough for government work."
      ]
    },
    {
      "cell_type": "markdown",
      "metadata": {
        "id": "ZuPQZtkjQAm_"
      },
      "source": [
        "### Quantiles"
      ]
    },
    {
      "cell_type": "markdown",
      "metadata": {
        "id": "G0cd2vcLQAm_"
      },
      "source": [
        "Quantiles are cut points that divide sequence of observations in a sample space into contiguous intervals/groups with equal probabilities.\n",
        "\n",
        "In the following example we choose a simple cut point that breaks the sample values into two groups. The cut point effectively marks the median.\n",
        "\n",
        "<img src='https://github.com/chalmerlowe/stats_and_probability/blob/master/images/quantile_halvsies.jpg?raw=1' height='600' width='600'>"
      ]
    },
    {
      "cell_type": "markdown",
      "metadata": {
        "id": "s3gucjxMQAm_"
      },
      "source": [
        "In this next example we choose nine cut points that break the sample values into ten equally-sized groups. \n",
        "\n",
        "The cut points mark the 10%, 20%, 30% through 90% points of the data. This more refined set of cut points allows us to fine-tune our approach to filtering out out-liers. As shown in this image, our range would be all values between the 10% and 90% cut points.\n",
        "\n",
        "<img src='https://github.com/chalmerlowe/stats_and_probability/blob/master/images/quantile_percentile.jpg?raw=1' height='600' width='600'>"
      ]
    },
    {
      "cell_type": "markdown",
      "metadata": {
        "id": "DZZXqVk9QAm_"
      },
      "source": [
        "With this in mind, let's create our first function to help calculate where a given quantile falls."
      ]
    },
    {
      "cell_type": "code",
      "execution_count": 25,
      "metadata": {
        "collapsed": true,
        "id": "327K5AGZQAnA"
      },
      "outputs": [],
      "source": [
        "def quantile(values, percentile):\n",
        "    \"\"\"Returns the pth-percentile value in a sequence of values\n",
        "    \"\"\"\n",
        "    \n",
        "    p_index = int(percentile * len(values))\n",
        "    return sorted(values)[p_index]"
      ]
    },
    {
      "cell_type": "code",
      "execution_count": 26,
      "metadata": {
        "id": "EB9o440PQAnA",
        "colab": {
          "base_uri": "https://localhost:8080/"
        },
        "outputId": "12b41fd1-9e8b-43a6-827c-bdb9a54ff9ac"
      },
      "outputs": [
        {
          "output_type": "execute_result",
          "data": {
            "text/plain": [
              "85"
            ]
          },
          "metadata": {},
          "execution_count": 26
        }
      ],
      "source": [
        "# Given a sequence of values, we can calculate a given quantile.\n",
        "# In this case, we calculate the quantile at the halfway mark (50% OR 0.5)\n",
        "#     or roughly the median.\n",
        "\n",
        "grades1 = [85, 87, 89, 55, 65, 67, 75, 80, 91, 96]        # ten values\n",
        "\n",
        "quantile(grades1, .5)"
      ]
    },
    {
      "cell_type": "code",
      "execution_count": 27,
      "metadata": {
        "id": "jNcQ_G5SQAnA",
        "colab": {
          "base_uri": "https://localhost:8080/"
        },
        "outputId": "b3e089e0-408a-4971-aa75-2aadfbd866fb"
      },
      "outputs": [
        {
          "output_type": "execute_result",
          "data": {
            "text/plain": [
              "85"
            ]
          },
          "metadata": {},
          "execution_count": 27
        }
      ],
      "source": [
        "grades2 = [85, 87, 89, 55, 65, 67, 75, 80, 91, 96, 99]    # eleven values\n",
        "\n",
        "quantile(grades2, .5)\n",
        "\n",
        "# NOTE: As described above, this function lacks some details\n",
        "#     it is less detailed than even our median function\n",
        "#     and does NOT account for the length of the dataset in\n",
        "#     terms of odd/even num of values"
      ]
    },
    {
      "cell_type": "code",
      "execution_count": 28,
      "metadata": {
        "id": "BY79-HanQAnA",
        "colab": {
          "base_uri": "https://localhost:8080/"
        },
        "outputId": "74f9ab6e-a4d6-47c6-c607-5e289b33a8b8"
      },
      "outputs": [
        {
          "output_type": "stream",
          "name": "stdout",
          "text": [
            "25%:  67\n",
            "75%:  91\n"
          ]
        }
      ],
      "source": [
        "# While not as sophisticated as our median calc,\n",
        "#     we can generally calculate other quantiles, such as the \n",
        "#     the 25th percentile\n",
        "#     or the 75th percentile\n",
        "#     i.e. the quartiles\n",
        "\n",
        "print('25%: ', quantile(grades2, .25))\n",
        "print('75%: ', quantile(grades2, .75))\n",
        "\n",
        "# sorted for comparison: [55, 65, 67, 75, 80, 85, 87, 89, 91, 96, 99]"
      ]
    },
    {
      "cell_type": "markdown",
      "metadata": {
        "id": "n2fb5vOtQAnA"
      },
      "source": [
        "To see the percentile breakdown of defects, we can calculate which defect counts fall into which percentiles"
      ]
    },
    {
      "cell_type": "markdown",
      "metadata": {
        "id": "dvjDihy1QAnA"
      },
      "source": [
        "It is important to note that the percentile calc simply finds the **NEAREST** index in the defect list to the given percentile and returns the value stored at that index."
      ]
    },
    {
      "cell_type": "code",
      "execution_count": 29,
      "metadata": {
        "id": "5BWesP0dQAnA",
        "colab": {
          "base_uri": "https://localhost:8080/"
        },
        "outputId": "93575730-9175-449a-89b4-bc09fab97036"
      },
      "outputs": [
        {
          "output_type": "stream",
          "name": "stdout",
          "text": [
            "Percent: 0.1\t4\n",
            "Percent: 0.25\t6\n",
            "Percent: 0.75\t12\n",
            "Percent: 0.9\t16\n",
            "Percent: 0.95\t21\n",
            "Percent: 0.999\t99\n"
          ]
        }
      ],
      "source": [
        "for percent in [0.10, 0.25, 0.75, 0.90, 0.95, 0.999]:\n",
        "    q = quantile(num_defects, percent)\n",
        "    \n",
        "    print('Percent: {}\\t{}'.format(percent, q))"
      ]
    },
    {
      "cell_type": "code",
      "execution_count": 29,
      "metadata": {
        "id": "FUZmwGPTQAnA"
      },
      "outputs": [],
      "source": []
    },
    {
      "cell_type": "markdown",
      "metadata": {
        "id": "4bTDV5-qQAnB"
      },
      "source": [
        "### Interquartile ranges"
      ]
    },
    {
      "cell_type": "markdown",
      "metadata": {
        "id": "TMTqgobXQAnB"
      },
      "source": [
        "To show the range between two quantile values, we can use an interquantile range.\n",
        "\n",
        "It is very common to use quantiles of 25% and 75%, but other quantiles may be used as well:\n",
        "* 10% <-> 90%\n",
        "* 20% <-> 80%\n",
        "* 30% <-> 70%\n",
        "\n",
        "It really depends on how much you want to filter out outliers AND your definition of outliers.\n"
      ]
    },
    {
      "cell_type": "markdown",
      "metadata": {
        "id": "aGNjXlByQAnB"
      },
      "source": [
        "This image is focused on the 25% and 75% cut points which are typically called quartiles because the values are divided into quarters:\n",
        "\n",
        "<img src='https://github.com/chalmerlowe/stats_and_probability/blob/master/images/quantile_quartile.jpg?raw=1' height='600' width='600'>"
      ]
    },
    {
      "cell_type": "code",
      "execution_count": 30,
      "metadata": {
        "collapsed": true,
        "id": "ZGAlSjJUQAnB"
      },
      "outputs": [],
      "source": [
        "def interquartile_range(values):\n",
        "    '''Return the difference between the 75% and 25% percentiles.\n",
        "    '''\n",
        "    \n",
        "    return quantile(values, 0.75) - quantile(values, 0.25)"
      ]
    },
    {
      "cell_type": "code",
      "execution_count": 31,
      "metadata": {
        "id": "dZVrsM0vQAnB",
        "colab": {
          "base_uri": "https://localhost:8080/"
        },
        "outputId": "cec94b67-1b82-4c51-d20c-583387258626"
      },
      "outputs": [
        {
          "output_type": "stream",
          "name": "stdout",
          "text": [
            "3 <-> 8\n"
          ]
        }
      ],
      "source": [
        "values = [1, 2, 3, 4, 5, 6, 7, 8, 9, 10]\n",
        "\n",
        "# Let's first just confirm the quantile VALUES at the 25% and 75% cut points\n",
        "print(quantile(values, 0.25), '<->', quantile(values, 0.75))"
      ]
    },
    {
      "cell_type": "code",
      "execution_count": 32,
      "metadata": {
        "id": "hLGt2VB_QAnB",
        "colab": {
          "base_uri": "https://localhost:8080/"
        },
        "outputId": "730eeb73-54ce-4197-c780-3c305e364136"
      },
      "outputs": [
        {
          "output_type": "stream",
          "name": "stdout",
          "text": [
            "5\n"
          ]
        }
      ],
      "source": [
        "# Now, let's calculate the interquartile range\n",
        "\n",
        "print(interquartile_range([1, 2, 3, 4, 5, 6, 7, 8, 9, 10]))"
      ]
    },
    {
      "cell_type": "code",
      "execution_count": 33,
      "metadata": {
        "id": "p6uTvJ5WQAnB",
        "colab": {
          "base_uri": "https://localhost:8080/"
        },
        "outputId": "d8cf9e0b-c808-4cd8-fab6-d74ed9dbcd5a"
      },
      "outputs": [
        {
          "output_type": "execute_result",
          "data": {
            "text/plain": [
              "6"
            ]
          },
          "metadata": {},
          "execution_count": 33
        }
      ],
      "source": [
        "# We can calculate the interquartile range for our defects data (presuming 75% and 25%)\n",
        "\n",
        "interquartile_range(num_defects)"
      ]
    },
    {
      "cell_type": "code",
      "execution_count": 34,
      "metadata": {
        "id": "q5rqoojcQAnB",
        "colab": {
          "base_uri": "https://localhost:8080/"
        },
        "outputId": "37d4e2fa-9b38-42b4-cd8d-c240ba699b62"
      },
      "outputs": [
        {
          "output_type": "execute_result",
          "data": {
            "text/plain": [
              "12"
            ]
          },
          "metadata": {},
          "execution_count": 34
        }
      ],
      "source": [
        "def interquartile_range(values, upper_bound=0.75, lower_bound=0.25):\n",
        "    '''Return the difference between the 75% and 25% percentiles.\n",
        "    '''\n",
        "    \n",
        "    return quantile(values, upper_bound) - quantile(values, lower_bound)\n",
        "\n",
        "interquartile_range(num_defects, 0.9, 0.1)"
      ]
    },
    {
      "cell_type": "markdown",
      "metadata": {
        "id": "QIVip3C7QAnB"
      },
      "source": [
        "## Downsides of using interquartile range\n",
        "\n",
        "The interquartile range helps eliminate some of the risks associated with outliers, but still has some weaknesses:\n",
        "\n",
        "* it can only tell you the difference between a 'high' value and a 'low' value\n",
        "* it does NOT tell you how often the high values OR low values occur versus how often values occur near the center\n",
        "\n",
        "We need a method to more accurately measure variability."
      ]
    },
    {
      "cell_type": "markdown",
      "metadata": {
        "id": "EwP2WXSNQAnC"
      },
      "source": [
        "# Experience Points\n",
        "---"
      ]
    },
    {
      "cell_type": "markdown",
      "metadata": {
        "id": "4rN3-wJWQAnC"
      },
      "source": [
        "## Complete the following exercises:\n",
        "\n"
      ]
    },
    {
      "cell_type": "markdown",
      "metadata": {
        "id": "D9GXE8zVQAnC"
      },
      "source": [
        "**A**. Given a list of values:\n",
        "`values = [1, 2, 3, 4, 5, 11, 12, 13, 14, 15]`\n",
        "\n",
        "Calculate the following results:\n",
        "\n",
        "* calculate a simple spread\n",
        "* calculate the 0.30 and 0.70 quantiles\n",
        "* calculate the interquartile range for 0.15 and 0.85\n"
      ]
    },
    {
      "cell_type": "code",
      "execution_count": 40,
      "metadata": {
        "id": "jPqIyRcZQAnC",
        "colab": {
          "base_uri": "https://localhost:8080/"
        },
        "outputId": "6fbab1dd-5e77-48ba-a67f-721ebcd1f883"
      },
      "outputs": [
        {
          "output_type": "stream",
          "name": "stdout",
          "text": [
            "simple spread: 14\n",
            "0.30 quantile: 3.6999999999999997\n",
            "0.70 quantile: 12.3\n",
            "interquartile range for 0.15 to 0.85: 11.299999999999999\n"
          ]
        }
      ],
      "source": [
        "import numpy as np\n",
        "values = [1, 2, 3, 4, 5, 11, 12, 13, 14, 15]\n",
        "print('simple spread:', max(values)-min(values))\n",
        "print('0.30 quantile:',np.quantile(values,0.30))\n",
        "print('0.70 quantile:',np.quantile(values,0.70))\n",
        "print('interquartile range for 0.15 to 0.85:',np.quantile(values,0.85)-np.quantile(values,0.15))"
      ]
    },
    {
      "cell_type": "markdown",
      "metadata": {
        "id": "GcdZoUPLQAnC"
      },
      "source": [
        "**B**. Given a sequence of values available from the Python `range()` object starting at 200 up to, but not including 300 with a step of 5 (i.e. `200, 205, 210 ... 290, 295`):\n",
        "\n",
        "`nums = range(200, 300, 5)`\n",
        "\n",
        "\n",
        "Calculate the following results:\n",
        "\n",
        "* calculate a simple spread\n",
        "* calculate the 0.15 and 0.85 quantiles\n",
        "* calculate the interquartile range for 0.25 and 0.75\n"
      ]
    },
    {
      "cell_type": "code",
      "execution_count": 43,
      "metadata": {
        "id": "Q5gzcSpoQAnC",
        "colab": {
          "base_uri": "https://localhost:8080/"
        },
        "outputId": "88b4d1e0-3486-4f7f-ce46-0c4c7ebe09f0"
      },
      "outputs": [
        {
          "output_type": "stream",
          "name": "stdout",
          "text": [
            "simple spread: 95\n",
            "0.15 quantile: 214.25\n",
            "0.85 quantile: 271.25\n",
            "interquartile range for 0.25 to 0.75: 47.5\n"
          ]
        }
      ],
      "source": [
        "import numpy as np\n",
        "nums = range(200, 300, 5)\n",
        "print('simple spread:',max(nums)-min(nums))\n",
        "print('0.15 quantile:',np.quantile(nums,0.15))\n",
        "print('0.85 quantile:',np.quantile(nums,0.75))\n",
        "print('interquartile range for 0.25 to 0.75:',np.quantile(nums,0.75)-np.quantile(nums,0.25))"
      ]
    },
    {
      "cell_type": "markdown",
      "metadata": {
        "id": "QCnkCNz_QAnC"
      },
      "source": [
        "## Variance and standard deviation"
      ]
    },
    {
      "cell_type": "markdown",
      "metadata": {
        "id": "qv91_1x9QAnC"
      },
      "source": [
        "There are several techniques to help evaluate the spread of the data and how much data varies. These techniques build upon each other."
      ]
    },
    {
      "cell_type": "markdown",
      "metadata": {
        "id": "-fVLQCZMQAnC"
      },
      "source": [
        "**DON'T DO THIS:  Average difference from the mean**\n",
        "\n",
        "`Average difference from the mean`: One method that **seems**, at first look, to be a reasonable solution is to simply calculate the average difference of each value from the mean.\n",
        "\n",
        "The weaknesss with calculating the average distance from the mean is that positive values and negative values cancel each other out and you lose the measure of spread:\n",
        "\n",
        "```\n",
        "nums = [1, 2, 9]\n",
        "mean: 4\n",
        "\n",
        "* 1 - 4 = -3\n",
        "* 2 - 4 = -2\n",
        "* 9 - 4 =  5\n",
        "------------\n",
        "total   =  0\n",
        "```"
      ]
    },
    {
      "cell_type": "code",
      "execution_count": 52,
      "metadata": {
        "collapsed": true,
        "id": "BMTjPY4SQAnC"
      },
      "outputs": [],
      "source": [
        "import numpy as np\n",
        "def mean(values):\n",
        "  return np.mean(values)\n",
        "def diff_mean(values):\n",
        "    \"\"\"Calculate the difference from the mean for every value in a \n",
        "    sequence of values\n",
        "    \n",
        "    This has the effect of translating the values so that the new mean\n",
        "    is zero (0).\n",
        "    \"\"\" \n",
        "    \n",
        "    x_bar = mean(values)\n",
        "    return [value - x_bar for value in values]    "
      ]
    },
    {
      "cell_type": "code",
      "execution_count": 53,
      "metadata": {
        "id": "ifjRkcL8QAnD",
        "colab": {
          "base_uri": "https://localhost:8080/"
        },
        "outputId": "46d77c9f-899c-4507-e7bf-f97fb67e4ce3"
      },
      "outputs": [
        {
          "output_type": "execute_result",
          "data": {
            "text/plain": [
              "0.0"
            ]
          },
          "metadata": {},
          "execution_count": 53
        }
      ],
      "source": [
        "\n",
        "diffs = diff_mean([1, 2, 9])\n",
        "\n",
        "mean(diffs)"
      ]
    },
    {
      "cell_type": "code",
      "execution_count": 54,
      "metadata": {
        "id": "bpp9qidCQAnD",
        "colab": {
          "base_uri": "https://localhost:8080/"
        },
        "outputId": "ff5c6a05-3b5c-4578-e1a3-e6080bb1075d"
      },
      "outputs": [
        {
          "output_type": "execute_result",
          "data": {
            "text/plain": [
              "-2.7864421010200007e-16"
            ]
          },
          "metadata": {},
          "execution_count": 54
        }
      ],
      "source": [
        "mean(diff_mean(num_defects))\n",
        "\n",
        "# 1.8634331550571255e-14\n",
        "# which is effectively ZERO... "
      ]
    },
    {
      "cell_type": "markdown",
      "metadata": {
        "id": "TG7vz4ehQAnD"
      },
      "source": [
        "**Variance**\n",
        "\n",
        "`Variance`: To calculate variation from the mean, a popular method is to calculate the variance, which is defined as:\n",
        "\n",
        "`The average of the 'difference OR distance of values from the mean' squared.`\n",
        "\n",
        "The benefit of **squaring** each of the \"difference from the mean\" values before using them to calculate the average is that squared numbers are **always positive**.\n",
        "\n",
        "```\n",
        "nums = [1, 2, 9]\n",
        "mean: 4\n",
        "\n",
        "* (1 - 4)^2 =  9\n",
        "* (2 - 4)^2 =  4\n",
        "* (9 - 4)^2 = 25\n",
        "----------------\n",
        "total       = 38\n",
        "\n",
        "variance    = 38/3 = 12.6666\n",
        "```\n",
        "\n"
      ]
    },
    {
      "cell_type": "code",
      "execution_count": 57,
      "metadata": {
        "collapsed": true,
        "id": "9sf47qjMQAnD"
      },
      "outputs": [],
      "source": [
        "import numpy as np\n",
        "def variance(values):\n",
        "  return np.var(values)"
      ]
    },
    {
      "cell_type": "code",
      "execution_count": 58,
      "metadata": {
        "id": "oBKvYpqcQAnD",
        "colab": {
          "base_uri": "https://localhost:8080/"
        },
        "outputId": "97c0c7a4-3b4c-4e7c-f60b-00798424f35c"
      },
      "outputs": [
        {
          "output_type": "execute_result",
          "data": {
            "text/plain": [
              "12.666666666666666"
            ]
          },
          "metadata": {},
          "execution_count": 58
        }
      ],
      "source": [
        "variance([1, 2, 9])"
      ]
    },
    {
      "cell_type": "code",
      "execution_count": 59,
      "metadata": {
        "id": "7iz7dykjQAnD",
        "colab": {
          "base_uri": "https://localhost:8080/"
        },
        "outputId": "d09d9272-d4ce-4b16-97a7-40c0bc213354"
      },
      "outputs": [
        {
          "output_type": "execute_result",
          "data": {
            "text/plain": [
              "80.87627354863513"
            ]
          },
          "metadata": {},
          "execution_count": 59
        }
      ],
      "source": [
        "variance(num_defects)"
      ]
    },
    {
      "cell_type": "markdown",
      "metadata": {
        "id": "0X3mYxUmQAnD"
      },
      "source": [
        "### Downsides of using variance\n",
        "\n",
        "One of the weaknesses of using the variance is that no one really knows what it means when we say **`distance squared`** or **`difference squared`**.\n",
        "\n",
        "Because we are using squared values, most folks don't have a good sense of how the variance relates to the actual dataset. In our example above, the variance is ~80 which is really close to the biggest value in our dataset... 99. This can be somewhat confusing."
      ]
    },
    {
      "cell_type": "markdown",
      "metadata": {
        "id": "T_qXQuD4QAnD"
      },
      "source": [
        "**Standard Deviation**\n",
        "\n",
        "`Standard Deviation`: To overcome this weakness we often calculate the standard deviation, which is defined as:\n",
        "\n",
        "`The square root of the variance`\n",
        "\n",
        "The benefit of the square root is that we are simply using a distance OR a difference.\n",
        "\n",
        "```\n",
        "nums = [1, 2, 9]\n",
        "mean: 4\n",
        "\n",
        "* (1 - 4)^2 =  9\n",
        "* (2 - 4)^2 =  4\n",
        "* (9 - 4)^2 = 25\n",
        "----------------\n",
        "total       = 38\n",
        "\n",
        "std dev     = sqrt(38/3) = 3.5590\n",
        "```"
      ]
    },
    {
      "cell_type": "markdown",
      "metadata": {
        "id": "cLf3i10nQAnE"
      },
      "source": [
        "### Using the standard deviation\n",
        "\n",
        "So... what does that really mean?\n",
        "\n",
        "For datasets where standard deviation is used, the standard deviation from the mean can tell you whether the dispersion in the data is narrow OR wide.\n",
        "\n",
        "In the following image, the dispersion in the red dataset is fairly narrow, which means the standard deviation will be a relatively small number.\n",
        "\n",
        "One nuance to note... in a typical normal (bell-shaped) distribution:\n",
        "\n",
        "* 65% of all values are within one standard deviation of the mean\n",
        "* 95% of all values are within two standard deviations\n",
        "* 99% of all values are within three standard deviations\n",
        "\n",
        "\n",
        "<img src='https://github.com/chalmerlowe/stats_and_probability/blob/master/images/std_narrow.jpg?raw=1' height='600' width='600'>\n",
        "\n",
        "In the following image, the dispersion in the red dataset is fairly wide, which means the standard deviation will be larger than in the previous example.\n",
        "\n",
        "<img src='https://github.com/chalmerlowe/stats_and_probability/blob/master/images/std_wide.jpg?raw=1' height='600' width='600'>"
      ]
    },
    {
      "cell_type": "code",
      "execution_count": 60,
      "metadata": {
        "collapsed": true,
        "id": "ZY2d1Y8JQAnE"
      },
      "outputs": [],
      "source": [
        "def standard_deviation(values):\n",
        "    \"\"\"Return the standard deviation of a sequence of values\n",
        "    \"\"\"\n",
        "    \n",
        "    from math import sqrt\n",
        "    return sqrt(variance(values))"
      ]
    },
    {
      "cell_type": "code",
      "execution_count": 61,
      "metadata": {
        "id": "5SqYf1LmQAnE",
        "colab": {
          "base_uri": "https://localhost:8080/"
        },
        "outputId": "42c66bd2-349a-48fd-ba5e-b560b90087ca"
      },
      "outputs": [
        {
          "output_type": "stream",
          "name": "stdout",
          "text": [
            "mean: 5.0\n",
            "std: 1.4142135623730951\n"
          ]
        }
      ],
      "source": [
        "# Narrow data set with a mean of 5\n",
        "\n",
        "l = [3, 4, 5, 6, 7]\n",
        "print(\"mean:\" , mean(l))\n",
        "\n",
        "print(\"std:\", standard_deviation(l))"
      ]
    },
    {
      "cell_type": "code",
      "execution_count": 62,
      "metadata": {
        "id": "3cPtFYUkQAnE",
        "colab": {
          "base_uri": "https://localhost:8080/"
        },
        "outputId": "7623a5a1-f6eb-4cea-a032-fdf7eadaa1f4"
      },
      "outputs": [
        {
          "output_type": "stream",
          "name": "stdout",
          "text": [
            "mean: 5.0\n",
            "std: 2.8284271247461903\n"
          ]
        }
      ],
      "source": [
        "# Wider data set with a mean of 5\n",
        "\n",
        "l = [1, 3, 5, 7, 9]\n",
        "print(\"mean:\" , mean(l))\n",
        "\n",
        "print(\"std:\", standard_deviation(l))"
      ]
    },
    {
      "cell_type": "code",
      "execution_count": 63,
      "metadata": {
        "collapsed": true,
        "id": "9g0UwPmVQAnF",
        "colab": {
          "base_uri": "https://localhost:8080/"
        },
        "outputId": "30bcf9b6-01ad-46ac-99ec-d207ff1cfcfe"
      },
      "outputs": [
        {
          "output_type": "stream",
          "name": "stdout",
          "text": [
            "mean: 9.965686274509803\n",
            "std: 8.993123681382077\n"
          ]
        }
      ],
      "source": [
        "# Out of curiousity, let's look at our number of defects\n",
        "\n",
        "print('mean:', mean(num_defects))\n",
        "print('std:', standard_deviation(num_defects))\n",
        "\n",
        "# 65% of the batches will be have a defect count within 9 defects of the average."
      ]
    },
    {
      "cell_type": "code",
      "execution_count": 63,
      "metadata": {
        "collapsed": true,
        "id": "wRL50LQZQAnF"
      },
      "outputs": [],
      "source": []
    },
    {
      "cell_type": "markdown",
      "metadata": {
        "id": "3ip-28h1QAnF"
      },
      "source": [
        "# Pro tip... using functions from libraries...\n",
        "\n",
        "All of the items we have covered here are fairly well represented in statistics literature and in various Python and Data Science libraries, so let's take a look at where you can find these tools"
      ]
    },
    {
      "cell_type": "markdown",
      "metadata": {
        "id": "P_gS28BBQAnF"
      },
      "source": [
        "There are several places you might want to start, but these are certainly not the only options:\n",
        "\n",
        "|Library|Purpose|\n",
        "|:---|:---|\n",
        "|**statistics**|Mathematical statistics functions including averages, measures of central location, measures of spread. |\n",
        "||Built into the Python Standard Library as of version 3.4: [statistics module](https://docs.python.org/3/library/statistics.html#module-statistics)|\n",
        "|||\n",
        "|**numpy**|a powerful N-dimensional array object|\n",
        "||sophisticated (broadcasting) functions|\n",
        "||tools for integrating C/C++ and Fortran code|\n",
        "||useful linear algebra, Fourier transform, and random number capabilities|\n",
        "|||\n",
        "|**scipy**|SciPy is a collection of mathematical algorithms and convenience functions built on numpy|\n",
        "||adds power to interactive Python sessions|\n",
        "||provides the user with high-level commands and classes for manipulating and visualizing data|\n",
        "| ||\n",
        "|**pandas**|pandas is a Python package providing fast, flexible, and expressive data structures|\n",
        "||designed to make working with “relational” or “labeled” data easy and intuitive|\n",
        "    "
      ]
    },
    {
      "cell_type": "code",
      "execution_count": 64,
      "metadata": {
        "collapsed": true,
        "id": "8GdARJ7MQAnF"
      },
      "outputs": [],
      "source": [
        "import numpy as np\n",
        "import scipy\n",
        "import statistics\n",
        "import pandas as pd"
      ]
    },
    {
      "cell_type": "markdown",
      "metadata": {
        "id": "ccYxU4HEQAnF"
      },
      "source": [
        "## numpy\n",
        "\n",
        "We will create a `numpy array` from our list of defects"
      ]
    },
    {
      "cell_type": "code",
      "execution_count": 65,
      "metadata": {
        "collapsed": true,
        "id": "ujE4HlBsQAnF"
      },
      "outputs": [],
      "source": [
        "defects = np.array(num_defects)"
      ]
    },
    {
      "cell_type": "code",
      "execution_count": 67,
      "metadata": {
        "collapsed": true,
        "id": "D0NHuIt4QAnG",
        "colab": {
          "base_uri": "https://localhost:8080/"
        },
        "outputId": "490309b8-8a73-4f49-8848-634b89e19419"
      },
      "outputs": [
        {
          "output_type": "execute_result",
          "data": {
            "text/plain": [
              "array([99, 52, 42, 44, 27, 22, 22, 24, 22, 21, 21, 18, 18, 15, 19, 19, 18,\n",
              "       17, 18, 16, 16, 17, 18, 15, 15, 13, 11, 14, 14, 13, 14, 14, 14, 13,\n",
              "       14, 14, 14, 14, 12, 14, 13, 12, 11, 12, 13, 13, 12, 13, 11, 13, 11,\n",
              "       12, 12, 10, 10, 11, 12, 13, 10, 12, 11, 10, 12, 12, 11, 11,  9,  9,\n",
              "        9, 11, 12,  8,  8, 10,  8, 10, 11, 10,  9, 10, 10,  8,  8, 11, 10,\n",
              "        9,  8,  8, 10, 10,  7,  7,  7,  8,  8,  7,  7,  8,  7,  7,  9,  7,\n",
              "        7, 10,  7,  8,  9,  9,  6,  6,  8,  8,  9,  7,  7,  9,  6,  8,  9,\n",
              "        8,  9,  9,  6,  8,  9,  7,  8,  6,  8,  6,  6,  6,  6,  6,  6,  8,\n",
              "        7,  8,  7,  5,  6,  8,  8,  8,  8,  5,  4,  6,  6,  4,  6,  6,  4,\n",
              "        5,  7,  5,  7,  6,  5,  4,  6,  4,  7,  5,  6,  4,  4,  6,  6,  3,\n",
              "        5,  6,  6,  4,  6,  3,  3,  3,  5,  5,  5,  3,  2,  5,  2,  3,  2,\n",
              "        4,  3,  2,  5,  2,  2,  2,  3,  4,  4,  4,  5,  5,  3,  5,  4,  2])"
            ]
          },
          "metadata": {},
          "execution_count": 67
        }
      ],
      "source": [
        "# Let's use \"tab complete\" to examine the methods that are available to us on a numpy array\n",
        "\n",
        "defects"
      ]
    },
    {
      "cell_type": "code",
      "execution_count": 70,
      "metadata": {
        "id": "hH9KEJRTQAnG",
        "colab": {
          "base_uri": "https://localhost:8080/"
        },
        "outputId": "027fcba6-4b82-4b86-863d-31642adb30ef"
      },
      "outputs": [
        {
          "output_type": "execute_result",
          "data": {
            "text/plain": [
              "9.965686274509803"
            ]
          },
          "metadata": {},
          "execution_count": 70
        }
      ],
      "source": [
        "defects.mean()"
      ]
    },
    {
      "cell_type": "markdown",
      "metadata": {
        "id": "tB_yrV-MQAnG"
      },
      "source": [
        "**NOTE**: there is no `.median()` method available on a `numpy array`.\n",
        "\n",
        "But, the `numpy` library has a `.median()` method available that can take an array as **an argument**:"
      ]
    },
    {
      "cell_type": "code",
      "execution_count": 69,
      "metadata": {
        "id": "n8uYJPTmQAnG",
        "colab": {
          "base_uri": "https://localhost:8080/"
        },
        "outputId": "be1402c8-441b-4d0e-82af-82b1c74e31cf"
      },
      "outputs": [
        {
          "output_type": "execute_result",
          "data": {
            "text/plain": [
              "8.0"
            ]
          },
          "metadata": {},
          "execution_count": 69
        }
      ],
      "source": [
        "np.median(defects)"
      ]
    },
    {
      "cell_type": "code",
      "execution_count": 68,
      "metadata": {
        "id": "kNRJxyl5QAnG",
        "colab": {
          "base_uri": "https://localhost:8080/"
        },
        "outputId": "47b64155-2bdf-41e4-c7f9-6a7ef2770add"
      },
      "outputs": [
        {
          "output_type": "stream",
          "name": "stdout",
          "text": [
            "80.87627354863513\n",
            "8.993123681382077\n"
          ]
        }
      ],
      "source": [
        "print(defects.var())\n",
        "print(defects.std())"
      ]
    },
    {
      "cell_type": "markdown",
      "metadata": {
        "id": "pmf4V1gZQAnG"
      },
      "source": [
        "## scipy\n",
        "The scipy library gives you access to these same types of functions"
      ]
    },
    {
      "cell_type": "code",
      "execution_count": 71,
      "metadata": {
        "id": "7fAWuts6QAnG",
        "colab": {
          "base_uri": "https://localhost:8080/"
        },
        "outputId": "27ceb630-022c-45a8-a50c-d2f4ff734d32"
      },
      "outputs": [
        {
          "output_type": "stream",
          "name": "stdout",
          "text": [
            "9.965686274509803\n",
            "8.0\n",
            "80.87627354863513\n",
            "8.993123681382077\n"
          ]
        },
        {
          "output_type": "stream",
          "name": "stderr",
          "text": [
            "<ipython-input-71-bfc34ccfd269>:1: DeprecationWarning: scipy.mean is deprecated and will be removed in SciPy 2.0.0, use numpy.mean instead\n",
            "  print(scipy.mean(num_defects))\n",
            "<ipython-input-71-bfc34ccfd269>:2: DeprecationWarning: scipy.median is deprecated and will be removed in SciPy 2.0.0, use numpy.median instead\n",
            "  print(scipy.median(num_defects))\n",
            "<ipython-input-71-bfc34ccfd269>:3: DeprecationWarning: scipy.var is deprecated and will be removed in SciPy 2.0.0, use numpy.var instead\n",
            "  print(scipy.var(num_defects))\n",
            "<ipython-input-71-bfc34ccfd269>:4: DeprecationWarning: scipy.std is deprecated and will be removed in SciPy 2.0.0, use numpy.std instead\n",
            "  print(scipy.std(num_defects))\n"
          ]
        }
      ],
      "source": [
        "print(scipy.mean(num_defects))\n",
        "print(scipy.median(num_defects))\n",
        "print(scipy.var(num_defects))\n",
        "print(scipy.std(num_defects))"
      ]
    },
    {
      "cell_type": "code",
      "execution_count": 73,
      "metadata": {
        "collapsed": true,
        "id": "MKgkA3EfQAnG",
        "colab": {
          "base_uri": "https://localhost:8080/"
        },
        "outputId": "28b6fca3-86e4-4593-db05-2f853ce847d9"
      },
      "outputs": [
        {
          "output_type": "execute_result",
          "data": {
            "text/plain": [
              "<function numpy.mean(a, axis=None, dtype=None, out=None, keepdims=<no value>, *, where=<no value>)>"
            ]
          },
          "metadata": {},
          "execution_count": 73
        }
      ],
      "source": [
        "np.mean"
      ]
    },
    {
      "cell_type": "code",
      "execution_count": 74,
      "metadata": {
        "collapsed": true,
        "id": "ZwqzMoDaQAnG",
        "colab": {
          "base_uri": "https://localhost:8080/"
        },
        "outputId": "9c8ef265-7147-43ca-ed82-675f86f551a3"
      },
      "outputs": [
        {
          "output_type": "execute_result",
          "data": {
            "text/plain": [
              "<function numpy.mean(a, axis=None, dtype=None, out=None, keepdims=<no value>, *, where=<no value>)>"
            ]
          },
          "metadata": {},
          "execution_count": 74
        }
      ],
      "source": [
        "# in some ways, it appears that scipy essentially repackages some of the numpy methods\n",
        "\n",
        "scipy.mean"
      ]
    },
    {
      "cell_type": "markdown",
      "metadata": {
        "id": "L2AinaahQAnG"
      },
      "source": [
        "## statistics\n",
        "\n",
        "The Python statistics library (new in version 3.4 of Python) has many of the same functions, but with slightly **different names**"
      ]
    },
    {
      "cell_type": "code",
      "execution_count": 75,
      "metadata": {
        "id": "Nv-Nabb-QAnH",
        "colab": {
          "base_uri": "https://localhost:8080/"
        },
        "outputId": "beaad8a4-78bc-40c5-aa56-f0aaf91a06c3"
      },
      "outputs": [
        {
          "output_type": "stream",
          "name": "stdout",
          "text": [
            "9.965686274509803\n",
            "8.0\n",
            "81.27467883705206\n",
            "9.015247020301333\n"
          ]
        }
      ],
      "source": [
        "print(statistics.mean(num_defects))\n",
        "print(statistics.median(num_defects))\n",
        "print(statistics.variance(num_defects))\n",
        "print(statistics.stdev(num_defects))"
      ]
    },
    {
      "cell_type": "markdown",
      "metadata": {
        "id": "rkhCkoAkQAnH"
      },
      "source": [
        "**NOTE**: The astute viewer will notice that the values provided by `scipy.std()` differ from the value given by the standard deviation formula in `scipy/numpy`.\n",
        "\n",
        "### Population Standard Deviation\n",
        "The standard deviation of a population gives identifies the amount of dispersion of data for an entire population. Because the denominator (`n`) is larger in this formula the population standard deviation tends to be smaller. \n",
        "\n",
        "**Formula**:\n",
        "\n",
        "---\n",
        "\n",
        "$\\large \\sigma = \\sqrt\\frac{\\sum (X - \\mu)^2 }{n}$\n",
        "\n",
        "Where:\n",
        "\n",
        "$\\sigma = population \\ standard \\ deviation$\n",
        "\n",
        "$\\sum = sum \\ of \\ ...$\n",
        "\n",
        "$\\mu = population \\ mean$\n",
        "\n",
        "$n = number \\ of \\ values \\ in \\ the \\ population $\n",
        "\n",
        "---\n",
        "\n",
        "\n",
        "### Sample Standard Deviation\n",
        "A standard deviation of a sample **estimates** the standard deviation of a population based on a random **sample** of that larger population. Because the denominator (`n - 1`) is comparatively smaller in this formula the sample standard deviation tends to be larger.  \n",
        "\n",
        "**Formula**:\n",
        "\n",
        "---\n",
        "\n",
        "$\\large s = \\sqrt\\frac{\\sum (X - \\bar{X})^2 }{n - 1}$\n",
        "\n",
        "Where:\n",
        "\n",
        "$s = sample \\ standard \\ deviation$\n",
        "\n",
        "$\\sum = sum \\ of \\ ...$\n",
        "\n",
        "$\\bar X = sample \\ mean$\n",
        "\n",
        "$n = number \\ of \\ values \\ in \\ the \\ sample $\n",
        "\n",
        "---\n",
        "\n",
        "### When to Use Population Standard Deviation versus Sample Standard Deviation\n",
        "\n",
        "\n",
        "\n",
        "\n",
        "Statisticians use the population and sample standard deviations in different situations. \n",
        "\n",
        "* If a teacher wants to summarize the grades for his students (his entire population), she would use the population standard deviation\n",
        "* If a researcher investigates the relationship between women, exercise and blood pressure, she would use the sample standard deviation because this allows her to apply (or estimate) the results for the entire population.\n",
        "\n",
        "\n"
      ]
    },
    {
      "cell_type": "markdown",
      "metadata": {
        "id": "Rsp1rhJbQAnH"
      },
      "source": [
        "## pandas"
      ]
    },
    {
      "cell_type": "markdown",
      "metadata": {
        "id": "X1rCSErBQAnH"
      },
      "source": [
        "Lastly, the `pandas` library allows you to perform similar calculations. We start by reading in the number of defects as a `pandas Series`:"
      ]
    },
    {
      "cell_type": "code",
      "execution_count": 76,
      "metadata": {
        "id": "PLuav610QAnH",
        "colab": {
          "base_uri": "https://localhost:8080/"
        },
        "outputId": "fd0ec589-6732-4186-e63c-f1946f944f1d"
      },
      "outputs": [
        {
          "output_type": "stream",
          "name": "stdout",
          "text": [
            "9.965686274509803\n",
            "8.0\n",
            "81.27467883705205\n",
            "9.015247020301333\n"
          ]
        }
      ],
      "source": [
        "defects_pd = pd.Series(num_defects)\n",
        "\n",
        "print(defects_pd.mean())\n",
        "print(defects_pd.median())\n",
        "print(defects_pd.var())\n",
        "print(defects_pd.std())"
      ]
    },
    {
      "cell_type": "markdown",
      "metadata": {
        "id": "R8J2uWE1QAnH"
      },
      "source": [
        "# Experience Points\n",
        "---"
      ]
    },
    {
      "cell_type": "markdown",
      "metadata": {
        "id": "Awl0DR6MQAnH"
      },
      "source": [
        "## Complete the following exercises:\n",
        "\n"
      ]
    },
    {
      "cell_type": "markdown",
      "metadata": {
        "id": "UTPX81-mQAnH"
      },
      "source": [
        "**A**. Using any **two** of these four libraries:\n",
        "\n",
        "* statistics \n",
        "* numpy\n",
        "* scipy\n",
        "* pandas\n",
        "\n",
        "Calculate the variance and standard deviation of the following numbers:\n",
        "\n",
        "`numbers = [83, 76, 56, 29, 78, 67, 78, 17, 83, 100]`"
      ]
    },
    {
      "cell_type": "code",
      "execution_count": null,
      "metadata": {
        "id": "FDWx7rdjQAnH"
      },
      "outputs": [],
      "source": []
    },
    {
      "cell_type": "markdown",
      "metadata": {
        "id": "ZCdCjxF6QAnI"
      },
      "source": [
        "## Resources\n",
        "\n",
        "* [Cartoon Guide to Statistics, Larry Gonick/Woollcott Smith](http://www.larrygonick.com/titles/science/the-cartoon-guide-to-statistics/)\n",
        "* [Manga Guide to Statistics, Shin Takahashi](https://nostarch.com/mg_statistics.htm)\n",
        "* [Head First Statistics, Dawn Griffiths](http://shop.oreilly.com/product/9780596527587.do)\n",
        "* [Naked Statistics, Charles Wheelan](https://www.amazon.com/Naked-Statistics-Stripping-Dread-Data/dp/1480590185)\n",
        "* [Statistics in a Nutshell, Sarah Boslaugh](http://shop.oreilly.com/product/0636920023074.do)\n",
        "* [Think Stats, Allen Downey](http://greenteapress.com/wp/think-stats-2e/)\n",
        "* [Think Python, Allen Downey](http://greenteapress.com/wp/think-python/)\n",
        "* [Think Bayes, Allen Downey](http://greenteapress.com/wp/think-bayes/)\n",
        "* [Bayes' Theorem Examples: A Visual Introduction For Beginners, Dan Morris](https://www.amazon.com/Bayes-Theorem-Examples-Introduction-Beginners-ebook/dp/B01LZ1T9IX)\n",
        "\n",
        "\n",
        "\n",
        "\n",
        "    \n",
        "    \n",
        "    \n",
        "    "
      ]
    },
    {
      "cell_type": "code",
      "execution_count": null,
      "metadata": {
        "id": "Q1C6wC8LQAnI"
      },
      "outputs": [],
      "source": []
    }
  ],
  "metadata": {
    "anaconda-cloud": {},
    "kernelspec": {
      "display_name": "Python 3",
      "language": "python",
      "name": "python3"
    },
    "language_info": {
      "codemirror_mode": {
        "name": "ipython",
        "version": 3
      },
      "file_extension": ".py",
      "mimetype": "text/x-python",
      "name": "python",
      "nbconvert_exporter": "python",
      "pygments_lexer": "ipython3",
      "version": "3.6.4"
    },
    "colab": {
      "provenance": []
    }
  },
  "nbformat": 4,
  "nbformat_minor": 0
}